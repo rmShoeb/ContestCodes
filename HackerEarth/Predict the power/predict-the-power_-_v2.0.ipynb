{
  "nbformat": 4,
  "nbformat_minor": 0,
  "metadata": {
    "colab": {
      "name": "predict-the-power_-_v2.0.ipynb",
      "provenance": []
    },
    "kernelspec": {
      "name": "python3",
      "display_name": "Python 3"
    },
    "language_info": {
      "name": "python"
    }
  },
  "cells": [
    {
      "cell_type": "markdown",
      "metadata": {
        "id": "M9td7_TWDOY6"
      },
      "source": [
        "# Predict The Power - Version 2.0"
      ]
    },
    {
      "cell_type": "markdown",
      "metadata": {
        "id": "vGCsWiB2DVPh"
      },
      "source": [
        "In the first attempt, I tried using Linear Regression with almost no feature engineering. Now that I have learned a technique to use deep neural network for tabular data, I am going apply that in this problem and see what happens."
      ]
    },
    {
      "cell_type": "markdown",
      "metadata": {
        "id": "802qrz_fERwI"
      },
      "source": [
        "[Competition Link](https://www.hackerearth.com/challenges/competitive/hackerearth-machine-learning-challenge-predict-windmill-power/)"
      ]
    },
    {
      "cell_type": "code",
      "metadata": {
        "colab": {
          "base_uri": "https://localhost:8080/"
        },
        "id": "LrDl7t3zAiHr",
        "outputId": "24b75fbe-c397-499e-b91c-e408aff6a31d"
      },
      "source": [
        "%cd '/content/drive/Shareddrives/With Myself/HackerEarth-ml-competitions/predict-the-power/dataset'"
      ],
      "execution_count": 1,
      "outputs": [
        {
          "output_type": "stream",
          "text": [
            "/content/drive/Shareddrives/With Myself/HackerEarth-ml-competitions/predict-the-power/dataset\n"
          ],
          "name": "stdout"
        }
      ]
    },
    {
      "cell_type": "markdown",
      "metadata": {
        "id": "AVgxgTTkEix5"
      },
      "source": [
        "My academic email comes with unlimited google drive storage. I have created a shared drive there and shared it with my other google accounts, so that I can store the huge datasets for ML and DL."
      ]
    },
    {
      "cell_type": "markdown",
      "metadata": {
        "id": "xpuiajsbFKJ7"
      },
      "source": [
        "## Imports"
      ]
    },
    {
      "cell_type": "code",
      "metadata": {
        "id": "B3lXpHMpDL_u"
      },
      "source": [
        "import numpy as np\n",
        "import pandas as pd\n",
        "from sklearn.model_selection import train_test_split\n",
        "from sklearn.preprocessing import StandardScaler\n",
        "import tensorflow as tf\n",
        "from tensorflow.keras.layers import Input, Embedding, Dense, Reshape, Concatenate, Dropout, BatchNormalization\n",
        "from tensorflow.keras import Model"
      ],
      "execution_count": 3,
      "outputs": []
    },
    {
      "cell_type": "code",
      "metadata": {
        "id": "Hla0zT9MZBxg"
      },
      "source": [
        "from sklearn import metrics"
      ],
      "execution_count": 45,
      "outputs": []
    },
    {
      "cell_type": "markdown",
      "metadata": {
        "id": "ZqVxEzYHF1Ke"
      },
      "source": [
        "## Data"
      ]
    },
    {
      "cell_type": "code",
      "metadata": {
        "colab": {
          "base_uri": "https://localhost:8080/"
        },
        "id": "NwNyD-MyFnAV",
        "outputId": "afb951a5-ef5d-4c61-b05e-54ddfbd61639"
      },
      "source": [
        "!ls"
      ],
      "execution_count": 4,
      "outputs": [
        {
          "output_type": "stream",
          "text": [
            "sample_submission.csv  test.csv  train.csv\n"
          ],
          "name": "stdout"
        }
      ]
    },
    {
      "cell_type": "markdown",
      "metadata": {
        "id": "vqMGyXTHJW0B"
      },
      "source": [
        "### Load the data"
      ]
    },
    {
      "cell_type": "code",
      "metadata": {
        "id": "KOiutXaDFzwy"
      },
      "source": [
        "train = pd.read_csv('train.csv')\n",
        "test = pd.read_csv('test.csv')"
      ],
      "execution_count": 5,
      "outputs": []
    },
    {
      "cell_type": "markdown",
      "metadata": {
        "id": "l97VVpIPJZU8"
      },
      "source": [
        "### Take a peek into the data"
      ]
    },
    {
      "cell_type": "code",
      "metadata": {
        "colab": {
          "base_uri": "https://localhost:8080/",
          "height": 331
        },
        "id": "asELzT9MGAjW",
        "outputId": "f3604c9a-7558-4d14-a8f9-383b555199de"
      },
      "source": [
        "train.head()"
      ],
      "execution_count": 6,
      "outputs": [
        {
          "output_type": "execute_result",
          "data": {
            "text/html": [
              "<div>\n",
              "<style scoped>\n",
              "    .dataframe tbody tr th:only-of-type {\n",
              "        vertical-align: middle;\n",
              "    }\n",
              "\n",
              "    .dataframe tbody tr th {\n",
              "        vertical-align: top;\n",
              "    }\n",
              "\n",
              "    .dataframe thead th {\n",
              "        text-align: right;\n",
              "    }\n",
              "</style>\n",
              "<table border=\"1\" class=\"dataframe\">\n",
              "  <thead>\n",
              "    <tr style=\"text-align: right;\">\n",
              "      <th></th>\n",
              "      <th>tracking_id</th>\n",
              "      <th>datetime</th>\n",
              "      <th>wind_speed(m/s)</th>\n",
              "      <th>atmospheric_temperature(°C)</th>\n",
              "      <th>shaft_temperature(°C)</th>\n",
              "      <th>blades_angle(°)</th>\n",
              "      <th>gearbox_temperature(°C)</th>\n",
              "      <th>engine_temperature(°C)</th>\n",
              "      <th>motor_torque(N-m)</th>\n",
              "      <th>generator_temperature(°C)</th>\n",
              "      <th>atmospheric_pressure(Pascal)</th>\n",
              "      <th>area_temperature(°C)</th>\n",
              "      <th>windmill_body_temperature(°C)</th>\n",
              "      <th>wind_direction(°)</th>\n",
              "      <th>resistance(ohm)</th>\n",
              "      <th>rotor_torque(N-m)</th>\n",
              "      <th>turbine_status</th>\n",
              "      <th>cloud_level</th>\n",
              "      <th>blade_length(m)</th>\n",
              "      <th>blade_breadth(m)</th>\n",
              "      <th>windmill_height(m)</th>\n",
              "      <th>windmill_generated_power(kW/h)</th>\n",
              "    </tr>\n",
              "  </thead>\n",
              "  <tbody>\n",
              "    <tr>\n",
              "      <th>0</th>\n",
              "      <td>WM_33725</td>\n",
              "      <td>2019-08-04 14:33:20</td>\n",
              "      <td>94.820023</td>\n",
              "      <td>-99.000000</td>\n",
              "      <td>41.723019</td>\n",
              "      <td>-0.903423</td>\n",
              "      <td>82.410573</td>\n",
              "      <td>42.523015</td>\n",
              "      <td>2563.124522</td>\n",
              "      <td>76.665560</td>\n",
              "      <td>103402.961872</td>\n",
              "      <td>26.897875</td>\n",
              "      <td>NaN</td>\n",
              "      <td>239.836388</td>\n",
              "      <td>2730.310605</td>\n",
              "      <td>42.084666</td>\n",
              "      <td>BA</td>\n",
              "      <td>Medium</td>\n",
              "      <td>2.217542</td>\n",
              "      <td>0.314065</td>\n",
              "      <td>24.281689</td>\n",
              "      <td>6.766521</td>\n",
              "    </tr>\n",
              "    <tr>\n",
              "      <th>1</th>\n",
              "      <td>WM_698</td>\n",
              "      <td>2018-11-05 10:13:20</td>\n",
              "      <td>241.832734</td>\n",
              "      <td>27.764785</td>\n",
              "      <td>-99.000000</td>\n",
              "      <td>-99.000000</td>\n",
              "      <td>44.104919</td>\n",
              "      <td>46.258870</td>\n",
              "      <td>2372.384119</td>\n",
              "      <td>78.129803</td>\n",
              "      <td>17030.904078</td>\n",
              "      <td>39.801469</td>\n",
              "      <td>NaN</td>\n",
              "      <td>337.944723</td>\n",
              "      <td>1780.207200</td>\n",
              "      <td>107.888643</td>\n",
              "      <td>A2</td>\n",
              "      <td>Medium</td>\n",
              "      <td>4.210346</td>\n",
              "      <td>0.448494</td>\n",
              "      <td>27.262139</td>\n",
              "      <td>5.966275</td>\n",
              "    </tr>\n",
              "    <tr>\n",
              "      <th>2</th>\n",
              "      <td>WM_39146</td>\n",
              "      <td>2019-09-14 14:03:20</td>\n",
              "      <td>95.484724</td>\n",
              "      <td>NaN</td>\n",
              "      <td>41.855473</td>\n",
              "      <td>12.652763</td>\n",
              "      <td>42.322098</td>\n",
              "      <td>42.878552</td>\n",
              "      <td>1657.169646</td>\n",
              "      <td>67.654469</td>\n",
              "      <td>16125.927107</td>\n",
              "      <td>36.116065</td>\n",
              "      <td>45.033197</td>\n",
              "      <td>227.850294</td>\n",
              "      <td>1666.049900</td>\n",
              "      <td>-42.931459</td>\n",
              "      <td>ABC</td>\n",
              "      <td>Medium</td>\n",
              "      <td>2.719475</td>\n",
              "      <td>0.302321</td>\n",
              "      <td>27.366127</td>\n",
              "      <td>2.874342</td>\n",
              "    </tr>\n",
              "    <tr>\n",
              "      <th>3</th>\n",
              "      <td>WM_6757</td>\n",
              "      <td>2018-12-25 15:33:20</td>\n",
              "      <td>238.819424</td>\n",
              "      <td>-99.000000</td>\n",
              "      <td>45.443914</td>\n",
              "      <td>15.115323</td>\n",
              "      <td>44.759643</td>\n",
              "      <td>47.282101</td>\n",
              "      <td>2888.134079</td>\n",
              "      <td>95.389974</td>\n",
              "      <td>18689.732336</td>\n",
              "      <td>46.020045</td>\n",
              "      <td>44.827154</td>\n",
              "      <td>492.081520</td>\n",
              "      <td>1964.502895</td>\n",
              "      <td>42.744596</td>\n",
              "      <td>ABC</td>\n",
              "      <td>NaN</td>\n",
              "      <td>4.857385</td>\n",
              "      <td>0.367140</td>\n",
              "      <td>24.287767</td>\n",
              "      <td>14.851089</td>\n",
              "    </tr>\n",
              "    <tr>\n",
              "      <th>4</th>\n",
              "      <td>WM_21521</td>\n",
              "      <td>2019-05-04 03:13:20</td>\n",
              "      <td>10.722890</td>\n",
              "      <td>NaN</td>\n",
              "      <td>41.981183</td>\n",
              "      <td>1.715696</td>\n",
              "      <td>-17.616459</td>\n",
              "      <td>43.469852</td>\n",
              "      <td>781.695419</td>\n",
              "      <td>37.423065</td>\n",
              "      <td>114468.169007</td>\n",
              "      <td>34.572941</td>\n",
              "      <td>-99.000000</td>\n",
              "      <td>259.274601</td>\n",
              "      <td>1177.516152</td>\n",
              "      <td>13.387289</td>\n",
              "      <td>AAA</td>\n",
              "      <td>Medium</td>\n",
              "      <td>NaN</td>\n",
              "      <td>0.453374</td>\n",
              "      <td>27.971650</td>\n",
              "      <td>3.519074</td>\n",
              "    </tr>\n",
              "  </tbody>\n",
              "</table>\n",
              "</div>"
            ],
            "text/plain": [
              "  tracking_id  ... windmill_generated_power(kW/h)\n",
              "0    WM_33725  ...                       6.766521\n",
              "1      WM_698  ...                       5.966275\n",
              "2    WM_39146  ...                       2.874342\n",
              "3     WM_6757  ...                      14.851089\n",
              "4    WM_21521  ...                       3.519074\n",
              "\n",
              "[5 rows x 22 columns]"
            ]
          },
          "metadata": {
            "tags": []
          },
          "execution_count": 6
        }
      ]
    },
    {
      "cell_type": "code",
      "metadata": {
        "colab": {
          "base_uri": "https://localhost:8080/",
          "height": 331
        },
        "id": "NoGS-H8wG5Mu",
        "outputId": "5b4c831e-eede-4c06-cec8-f76da7660a38"
      },
      "source": [
        "test.head()"
      ],
      "execution_count": 7,
      "outputs": [
        {
          "output_type": "execute_result",
          "data": {
            "text/html": [
              "<div>\n",
              "<style scoped>\n",
              "    .dataframe tbody tr th:only-of-type {\n",
              "        vertical-align: middle;\n",
              "    }\n",
              "\n",
              "    .dataframe tbody tr th {\n",
              "        vertical-align: top;\n",
              "    }\n",
              "\n",
              "    .dataframe thead th {\n",
              "        text-align: right;\n",
              "    }\n",
              "</style>\n",
              "<table border=\"1\" class=\"dataframe\">\n",
              "  <thead>\n",
              "    <tr style=\"text-align: right;\">\n",
              "      <th></th>\n",
              "      <th>tracking_id</th>\n",
              "      <th>datetime</th>\n",
              "      <th>wind_speed(m/s)</th>\n",
              "      <th>atmospheric_temperature(°C)</th>\n",
              "      <th>shaft_temperature(°C)</th>\n",
              "      <th>blades_angle(°)</th>\n",
              "      <th>gearbox_temperature(°C)</th>\n",
              "      <th>engine_temperature(°C)</th>\n",
              "      <th>motor_torque(N-m)</th>\n",
              "      <th>generator_temperature(°C)</th>\n",
              "      <th>atmospheric_pressure(Pascal)</th>\n",
              "      <th>area_temperature(°C)</th>\n",
              "      <th>windmill_body_temperature(°C)</th>\n",
              "      <th>wind_direction(°)</th>\n",
              "      <th>resistance(ohm)</th>\n",
              "      <th>rotor_torque(N-m)</th>\n",
              "      <th>turbine_status</th>\n",
              "      <th>cloud_level</th>\n",
              "      <th>blade_length(m)</th>\n",
              "      <th>blade_breadth(m)</th>\n",
              "      <th>windmill_height(m)</th>\n",
              "    </tr>\n",
              "  </thead>\n",
              "  <tbody>\n",
              "    <tr>\n",
              "      <th>0</th>\n",
              "      <td>WM_19817</td>\n",
              "      <td>2019-04-17 08:53:20</td>\n",
              "      <td>94.324266</td>\n",
              "      <td>17.641186</td>\n",
              "      <td>89.714193</td>\n",
              "      <td>51.146788</td>\n",
              "      <td>40.460560</td>\n",
              "      <td>39.594734</td>\n",
              "      <td>1073.202715</td>\n",
              "      <td>66.830037</td>\n",
              "      <td>16681.044117</td>\n",
              "      <td>24.004812</td>\n",
              "      <td>43.756693</td>\n",
              "      <td>445.976992</td>\n",
              "      <td>1664.222023</td>\n",
              "      <td>21.912243</td>\n",
              "      <td>BA</td>\n",
              "      <td>Medium</td>\n",
              "      <td>3.185837</td>\n",
              "      <td>0.403965</td>\n",
              "      <td>25.572431</td>\n",
              "    </tr>\n",
              "    <tr>\n",
              "      <th>1</th>\n",
              "      <td>WM_18723</td>\n",
              "      <td>2019-03-30 07:43:20</td>\n",
              "      <td>10.088870</td>\n",
              "      <td>13.978119</td>\n",
              "      <td>43.272846</td>\n",
              "      <td>46.516394</td>\n",
              "      <td>40.027788</td>\n",
              "      <td>41.176860</td>\n",
              "      <td>517.436430</td>\n",
              "      <td>37.284163</td>\n",
              "      <td>NaN</td>\n",
              "      <td>29.431813</td>\n",
              "      <td>42.728174</td>\n",
              "      <td>499.595287</td>\n",
              "      <td>1165.111992</td>\n",
              "      <td>-35.050093</td>\n",
              "      <td>A</td>\n",
              "      <td>Medium</td>\n",
              "      <td>3.016603</td>\n",
              "      <td>0.444755</td>\n",
              "      <td>24.371823</td>\n",
              "    </tr>\n",
              "    <tr>\n",
              "      <th>2</th>\n",
              "      <td>WM_34552</td>\n",
              "      <td>2019-08-10 11:33:20</td>\n",
              "      <td>347.152090</td>\n",
              "      <td>31.423035</td>\n",
              "      <td>41.076640</td>\n",
              "      <td>26.931602</td>\n",
              "      <td>43.109122</td>\n",
              "      <td>43.439556</td>\n",
              "      <td>1480.716492</td>\n",
              "      <td>70.010762</td>\n",
              "      <td>214812.836175</td>\n",
              "      <td>29.924235</td>\n",
              "      <td>43.256122</td>\n",
              "      <td>245.432231</td>\n",
              "      <td>1667.720491</td>\n",
              "      <td>27.195302</td>\n",
              "      <td>B2</td>\n",
              "      <td>Medium</td>\n",
              "      <td>2.611941</td>\n",
              "      <td>0.387368</td>\n",
              "      <td>27.654677</td>\n",
              "    </tr>\n",
              "    <tr>\n",
              "      <th>3</th>\n",
              "      <td>WM_28570</td>\n",
              "      <td>2019-06-26 03:53:20</td>\n",
              "      <td>24.471997</td>\n",
              "      <td>-99.000000</td>\n",
              "      <td>14.375078</td>\n",
              "      <td>66.513953</td>\n",
              "      <td>13.741253</td>\n",
              "      <td>15.577472</td>\n",
              "      <td>887.979475</td>\n",
              "      <td>41.445258</td>\n",
              "      <td>NaN</td>\n",
              "      <td>23.886434</td>\n",
              "      <td>13.501595</td>\n",
              "      <td>NaN</td>\n",
              "      <td>1329.744740</td>\n",
              "      <td>15.245757</td>\n",
              "      <td>BBB</td>\n",
              "      <td>Low</td>\n",
              "      <td>2.866805</td>\n",
              "      <td>0.450478</td>\n",
              "      <td>24.189426</td>\n",
              "    </tr>\n",
              "    <tr>\n",
              "      <th>4</th>\n",
              "      <td>WM_36934</td>\n",
              "      <td>2019-08-27 16:43:20</td>\n",
              "      <td>96.997026</td>\n",
              "      <td>33.281836</td>\n",
              "      <td>41.405192</td>\n",
              "      <td>1.843112</td>\n",
              "      <td>121.572907</td>\n",
              "      <td>43.934587</td>\n",
              "      <td>2053.916354</td>\n",
              "      <td>68.007787</td>\n",
              "      <td>16833.546517</td>\n",
              "      <td>35.906889</td>\n",
              "      <td>-99.000000</td>\n",
              "      <td>442.425744</td>\n",
              "      <td>691.408996</td>\n",
              "      <td>34.257024</td>\n",
              "      <td>A</td>\n",
              "      <td>Low</td>\n",
              "      <td>3.549672</td>\n",
              "      <td>0.368355</td>\n",
              "      <td>4.885440</td>\n",
              "    </tr>\n",
              "  </tbody>\n",
              "</table>\n",
              "</div>"
            ],
            "text/plain": [
              "  tracking_id             datetime  ...  blade_breadth(m)  windmill_height(m)\n",
              "0    WM_19817  2019-04-17 08:53:20  ...          0.403965           25.572431\n",
              "1    WM_18723  2019-03-30 07:43:20  ...          0.444755           24.371823\n",
              "2    WM_34552  2019-08-10 11:33:20  ...          0.387368           27.654677\n",
              "3    WM_28570  2019-06-26 03:53:20  ...          0.450478           24.189426\n",
              "4    WM_36934  2019-08-27 16:43:20  ...          0.368355            4.885440\n",
              "\n",
              "[5 rows x 21 columns]"
            ]
          },
          "metadata": {
            "tags": []
          },
          "execution_count": 7
        }
      ]
    },
    {
      "cell_type": "code",
      "metadata": {
        "colab": {
          "base_uri": "https://localhost:8080/",
          "height": 614
        },
        "id": "n-DqXdduG6hv",
        "outputId": "325485a7-9537-48dc-9570-7c1adf51069f"
      },
      "source": [
        "train.describe().transpose()"
      ],
      "execution_count": 9,
      "outputs": [
        {
          "output_type": "execute_result",
          "data": {
            "text/html": [
              "<div>\n",
              "<style scoped>\n",
              "    .dataframe tbody tr th:only-of-type {\n",
              "        vertical-align: middle;\n",
              "    }\n",
              "\n",
              "    .dataframe tbody tr th {\n",
              "        vertical-align: top;\n",
              "    }\n",
              "\n",
              "    .dataframe thead th {\n",
              "        text-align: right;\n",
              "    }\n",
              "</style>\n",
              "<table border=\"1\" class=\"dataframe\">\n",
              "  <thead>\n",
              "    <tr style=\"text-align: right;\">\n",
              "      <th></th>\n",
              "      <th>count</th>\n",
              "      <th>mean</th>\n",
              "      <th>std</th>\n",
              "      <th>min</th>\n",
              "      <th>25%</th>\n",
              "      <th>50%</th>\n",
              "      <th>75%</th>\n",
              "      <th>max</th>\n",
              "    </tr>\n",
              "  </thead>\n",
              "  <tbody>\n",
              "    <tr>\n",
              "      <th>wind_speed(m/s)</th>\n",
              "      <td>27927.0</td>\n",
              "      <td>69.037071</td>\n",
              "      <td>76.275645</td>\n",
              "      <td>-4.962110e+02</td>\n",
              "      <td>20.883502</td>\n",
              "      <td>93.302129</td>\n",
              "      <td>95.268058</td>\n",
              "      <td>6.014557e+02</td>\n",
              "    </tr>\n",
              "    <tr>\n",
              "      <th>atmospheric_temperature(°C)</th>\n",
              "      <td>24750.0</td>\n",
              "      <td>0.383727</td>\n",
              "      <td>44.278534</td>\n",
              "      <td>-9.900000e+01</td>\n",
              "      <td>7.948900</td>\n",
              "      <td>16.102410</td>\n",
              "      <td>23.687285</td>\n",
              "      <td>8.021744e+01</td>\n",
              "    </tr>\n",
              "    <tr>\n",
              "      <th>shaft_temperature(°C)</th>\n",
              "      <td>28198.0</td>\n",
              "      <td>40.085387</td>\n",
              "      <td>27.204430</td>\n",
              "      <td>-9.900000e+01</td>\n",
              "      <td>41.633238</td>\n",
              "      <td>43.686082</td>\n",
              "      <td>45.673685</td>\n",
              "      <td>1.698205e+02</td>\n",
              "    </tr>\n",
              "    <tr>\n",
              "      <th>blades_angle(°)</th>\n",
              "      <td>27984.0</td>\n",
              "      <td>-9.654038</td>\n",
              "      <td>47.918161</td>\n",
              "      <td>-1.462595e+02</td>\n",
              "      <td>-1.197652</td>\n",
              "      <td>-0.495608</td>\n",
              "      <td>5.495030</td>\n",
              "      <td>1.659321e+02</td>\n",
              "    </tr>\n",
              "    <tr>\n",
              "      <th>gearbox_temperature(°C)</th>\n",
              "      <td>28199.0</td>\n",
              "      <td>41.027755</td>\n",
              "      <td>43.663605</td>\n",
              "      <td>-2.449741e+02</td>\n",
              "      <td>40.557952</td>\n",
              "      <td>43.221735</td>\n",
              "      <td>45.879425</td>\n",
              "      <td>9.990000e+02</td>\n",
              "    </tr>\n",
              "    <tr>\n",
              "      <th>engine_temperature(°C)</th>\n",
              "      <td>28188.0</td>\n",
              "      <td>42.614239</td>\n",
              "      <td>6.124546</td>\n",
              "      <td>3.167151e+00</td>\n",
              "      <td>41.911365</td>\n",
              "      <td>43.525297</td>\n",
              "      <td>45.174246</td>\n",
              "      <td>5.000000e+01</td>\n",
              "    </tr>\n",
              "    <tr>\n",
              "      <th>motor_torque(N-m)</th>\n",
              "      <td>28176.0</td>\n",
              "      <td>1710.819803</td>\n",
              "      <td>827.205537</td>\n",
              "      <td>5.000000e+02</td>\n",
              "      <td>870.340239</td>\n",
              "      <td>2031.849540</td>\n",
              "      <td>2462.585729</td>\n",
              "      <td>3.000000e+03</td>\n",
              "    </tr>\n",
              "    <tr>\n",
              "      <th>generator_temperature(°C)</th>\n",
              "      <td>28188.0</td>\n",
              "      <td>65.027857</td>\n",
              "      <td>19.816499</td>\n",
              "      <td>3.389378e+01</td>\n",
              "      <td>41.198509</td>\n",
              "      <td>70.729533</td>\n",
              "      <td>78.945849</td>\n",
              "      <td>1.000000e+02</td>\n",
              "    </tr>\n",
              "    <tr>\n",
              "      <th>atmospheric_pressure(Pascal)</th>\n",
              "      <td>25493.0</td>\n",
              "      <td>53185.064883</td>\n",
              "      <td>187503.615642</td>\n",
              "      <td>-1.188624e+06</td>\n",
              "      <td>16794.921490</td>\n",
              "      <td>18191.125867</td>\n",
              "      <td>118113.289822</td>\n",
              "      <td>1.272552e+06</td>\n",
              "    </tr>\n",
              "    <tr>\n",
              "      <th>area_temperature(°C)</th>\n",
              "      <td>28200.0</td>\n",
              "      <td>32.735091</td>\n",
              "      <td>7.703391</td>\n",
              "      <td>-3.000000e+01</td>\n",
              "      <td>27.311644</td>\n",
              "      <td>32.605195</td>\n",
              "      <td>38.232387</td>\n",
              "      <td>5.500000e+01</td>\n",
              "    </tr>\n",
              "    <tr>\n",
              "      <th>windmill_body_temperature(°C)</th>\n",
              "      <td>25837.0</td>\n",
              "      <td>20.799761</td>\n",
              "      <td>54.356431</td>\n",
              "      <td>-9.990000e+02</td>\n",
              "      <td>40.448386</td>\n",
              "      <td>42.786832</td>\n",
              "      <td>44.494543</td>\n",
              "      <td>3.230000e+02</td>\n",
              "    </tr>\n",
              "    <tr>\n",
              "      <th>wind_direction(°)</th>\n",
              "      <td>23097.0</td>\n",
              "      <td>306.888883</td>\n",
              "      <td>134.055900</td>\n",
              "      <td>0.000000e+00</td>\n",
              "      <td>238.627752</td>\n",
              "      <td>271.427656</td>\n",
              "      <td>404.153517</td>\n",
              "      <td>5.699665e+02</td>\n",
              "    </tr>\n",
              "    <tr>\n",
              "      <th>resistance(ohm)</th>\n",
              "      <td>28199.0</td>\n",
              "      <td>1575.560011</td>\n",
              "      <td>483.326394</td>\n",
              "      <td>-1.005223e+03</td>\n",
              "      <td>1268.134043</td>\n",
              "      <td>1678.238404</td>\n",
              "      <td>1829.054007</td>\n",
              "      <td>4.693482e+03</td>\n",
              "    </tr>\n",
              "    <tr>\n",
              "      <th>rotor_torque(N-m)</th>\n",
              "      <td>27628.0</td>\n",
              "      <td>25.849894</td>\n",
              "      <td>32.423943</td>\n",
              "      <td>-1.367322e+02</td>\n",
              "      <td>13.722808</td>\n",
              "      <td>32.977192</td>\n",
              "      <td>41.550520</td>\n",
              "      <td>2.368833e+02</td>\n",
              "    </tr>\n",
              "    <tr>\n",
              "      <th>blade_length(m)</th>\n",
              "      <td>23107.0</td>\n",
              "      <td>2.254034</td>\n",
              "      <td>11.275602</td>\n",
              "      <td>-9.900000e+01</td>\n",
              "      <td>2.544859</td>\n",
              "      <td>3.453333</td>\n",
              "      <td>4.357862</td>\n",
              "      <td>1.820980e+01</td>\n",
              "    </tr>\n",
              "    <tr>\n",
              "      <th>blade_breadth(m)</th>\n",
              "      <td>28200.0</td>\n",
              "      <td>0.397249</td>\n",
              "      <td>0.061158</td>\n",
              "      <td>2.001110e-01</td>\n",
              "      <td>0.347445</td>\n",
              "      <td>0.398591</td>\n",
              "      <td>0.449354</td>\n",
              "      <td>4.999753e-01</td>\n",
              "    </tr>\n",
              "    <tr>\n",
              "      <th>windmill_height(m)</th>\n",
              "      <td>27657.0</td>\n",
              "      <td>25.887052</td>\n",
              "      <td>7.773609</td>\n",
              "      <td>-3.029525e+01</td>\n",
              "      <td>24.447658</td>\n",
              "      <td>25.957739</td>\n",
              "      <td>27.477854</td>\n",
              "      <td>7.835134e+01</td>\n",
              "    </tr>\n",
              "    <tr>\n",
              "      <th>windmill_generated_power(kW/h)</th>\n",
              "      <td>27993.0</td>\n",
              "      <td>6.130529</td>\n",
              "      <td>2.697520</td>\n",
              "      <td>9.623049e-01</td>\n",
              "      <td>4.059505</td>\n",
              "      <td>5.764710</td>\n",
              "      <td>7.947195</td>\n",
              "      <td>2.017536e+01</td>\n",
              "    </tr>\n",
              "  </tbody>\n",
              "</table>\n",
              "</div>"
            ],
            "text/plain": [
              "                                  count  ...           max\n",
              "wind_speed(m/s)                 27927.0  ...  6.014557e+02\n",
              "atmospheric_temperature(°C)     24750.0  ...  8.021744e+01\n",
              "shaft_temperature(°C)           28198.0  ...  1.698205e+02\n",
              "blades_angle(°)                 27984.0  ...  1.659321e+02\n",
              "gearbox_temperature(°C)         28199.0  ...  9.990000e+02\n",
              "engine_temperature(°C)          28188.0  ...  5.000000e+01\n",
              "motor_torque(N-m)               28176.0  ...  3.000000e+03\n",
              "generator_temperature(°C)       28188.0  ...  1.000000e+02\n",
              "atmospheric_pressure(Pascal)    25493.0  ...  1.272552e+06\n",
              "area_temperature(°C)            28200.0  ...  5.500000e+01\n",
              "windmill_body_temperature(°C)   25837.0  ...  3.230000e+02\n",
              "wind_direction(°)               23097.0  ...  5.699665e+02\n",
              "resistance(ohm)                 28199.0  ...  4.693482e+03\n",
              "rotor_torque(N-m)               27628.0  ...  2.368833e+02\n",
              "blade_length(m)                 23107.0  ...  1.820980e+01\n",
              "blade_breadth(m)                28200.0  ...  4.999753e-01\n",
              "windmill_height(m)              27657.0  ...  7.835134e+01\n",
              "windmill_generated_power(kW/h)  27993.0  ...  2.017536e+01\n",
              "\n",
              "[18 rows x 8 columns]"
            ]
          },
          "metadata": {
            "tags": []
          },
          "execution_count": 9
        }
      ]
    },
    {
      "cell_type": "code",
      "metadata": {
        "colab": {
          "base_uri": "https://localhost:8080/"
        },
        "id": "vjLHUD5CIDhX",
        "outputId": "67a090d5-0570-462b-d346-512746f479b2"
      },
      "source": [
        "train.dtypes"
      ],
      "execution_count": 10,
      "outputs": [
        {
          "output_type": "execute_result",
          "data": {
            "text/plain": [
              "tracking_id                        object\n",
              "datetime                           object\n",
              "wind_speed(m/s)                   float64\n",
              "atmospheric_temperature(°C)       float64\n",
              "shaft_temperature(°C)             float64\n",
              "blades_angle(°)                   float64\n",
              "gearbox_temperature(°C)           float64\n",
              "engine_temperature(°C)            float64\n",
              "motor_torque(N-m)                 float64\n",
              "generator_temperature(°C)         float64\n",
              "atmospheric_pressure(Pascal)      float64\n",
              "area_temperature(°C)              float64\n",
              "windmill_body_temperature(°C)     float64\n",
              "wind_direction(°)                 float64\n",
              "resistance(ohm)                   float64\n",
              "rotor_torque(N-m)                 float64\n",
              "turbine_status                     object\n",
              "cloud_level                        object\n",
              "blade_length(m)                   float64\n",
              "blade_breadth(m)                  float64\n",
              "windmill_height(m)                float64\n",
              "windmill_generated_power(kW/h)    float64\n",
              "dtype: object"
            ]
          },
          "metadata": {
            "tags": []
          },
          "execution_count": 10
        }
      ]
    },
    {
      "cell_type": "markdown",
      "metadata": {
        "id": "BOSY8S5RKRUc"
      },
      "source": [
        "We can see that there are 18 continuous variables and 2 categorical variables (ignoring *tracking_id* and *datetime* as those donot seem important)"
      ]
    },
    {
      "cell_type": "code",
      "metadata": {
        "colab": {
          "base_uri": "https://localhost:8080/"
        },
        "id": "8O75PBt-KJxh",
        "outputId": "0362a86a-7084-4c22-8bc2-29e950140e81"
      },
      "source": [
        "train.isna().sum()"
      ],
      "execution_count": 12,
      "outputs": [
        {
          "output_type": "execute_result",
          "data": {
            "text/plain": [
              "tracking_id                          0\n",
              "datetime                             0\n",
              "wind_speed(m/s)                    273\n",
              "atmospheric_temperature(°C)       3450\n",
              "shaft_temperature(°C)                2\n",
              "blades_angle(°)                    216\n",
              "gearbox_temperature(°C)              1\n",
              "engine_temperature(°C)              12\n",
              "motor_torque(N-m)                   24\n",
              "generator_temperature(°C)           12\n",
              "atmospheric_pressure(Pascal)      2707\n",
              "area_temperature(°C)                 0\n",
              "windmill_body_temperature(°C)     2363\n",
              "wind_direction(°)                 5103\n",
              "resistance(ohm)                      1\n",
              "rotor_torque(N-m)                  572\n",
              "turbine_status                    1759\n",
              "cloud_level                        276\n",
              "blade_length(m)                   5093\n",
              "blade_breadth(m)                     0\n",
              "windmill_height(m)                 543\n",
              "windmill_generated_power(kW/h)     207\n",
              "dtype: int64"
            ]
          },
          "metadata": {
            "tags": []
          },
          "execution_count": 12
        }
      ]
    },
    {
      "cell_type": "markdown",
      "metadata": {
        "id": "3tezPbCILIsk"
      },
      "source": [
        "### Splitting features and target"
      ]
    },
    {
      "cell_type": "code",
      "metadata": {
        "id": "yd-df-kYKtnm"
      },
      "source": [
        "numerical_feaures = ['wind_speed(m/s)', 'atmospheric_temperature(°C)', 'shaft_temperature(°C)', 'blades_angle(°)',\n",
        "                     'gearbox_temperature(°C)', 'engine_temperature(°C)', 'motor_torque(N-m)', 'generator_temperature(°C)',\n",
        "                     'atmospheric_pressure(Pascal)', 'area_temperature(°C)', 'windmill_body_temperature(°C)', 'wind_direction(°)',\n",
        "                     'resistance(ohm)', 'rotor_torque(N-m)', 'blade_length(m)', 'blade_breadth(m)', 'windmill_height(m)']\n",
        "categorical_features = ['turbine_status', 'cloud_level']"
      ],
      "execution_count": 13,
      "outputs": []
    },
    {
      "cell_type": "code",
      "metadata": {
        "id": "nDrrgVKyK8tj"
      },
      "source": [
        "X = train[numerical_feaures+categorical_features].copy()\n",
        "y = train['windmill_generated_power(kW/h)'].copy()"
      ],
      "execution_count": 15,
      "outputs": []
    },
    {
      "cell_type": "markdown",
      "metadata": {
        "id": "HebRzeUJM1UC"
      },
      "source": [
        "To handle the missing values, I am going to use the **mean** for numerical variables and **Missing** for categorical variables."
      ]
    },
    {
      "cell_type": "code",
      "metadata": {
        "id": "6_4a0h19L184"
      },
      "source": [
        "for feature in numerical_feaures:\n",
        "  X[feature].fillna(X[feature].mean(), inplace=True)"
      ],
      "execution_count": 17,
      "outputs": []
    },
    {
      "cell_type": "code",
      "metadata": {
        "id": "8n-EOwprNMKo"
      },
      "source": [
        "X[categorical_features] = X[categorical_features].fillna(\"Missing\")"
      ],
      "execution_count": 18,
      "outputs": []
    },
    {
      "cell_type": "markdown",
      "metadata": {
        "id": "lIdRmW7xOEkj"
      },
      "source": [
        "I was thinking if I should remove the missing values from the target variable, but now I think I am going to fill them with mean values."
      ]
    },
    {
      "cell_type": "code",
      "metadata": {
        "id": "kEauo21zNpzq"
      },
      "source": [
        "y.fillna(y.mean(), inplace=True)"
      ],
      "execution_count": 21,
      "outputs": []
    },
    {
      "cell_type": "markdown",
      "metadata": {
        "id": "S_-96pzBPdRx"
      },
      "source": [
        "### Converting some features"
      ]
    },
    {
      "cell_type": "markdown",
      "metadata": {
        "id": "9hcPDgLoPhY0"
      },
      "source": [
        "I think I should convert the **Celsius** values into **Kelvin**."
      ]
    },
    {
      "cell_type": "code",
      "metadata": {
        "id": "4VX09FtvQ78m"
      },
      "source": [
        "def C_to_K(row):\n",
        "  return row+273.15"
      ],
      "execution_count": 23,
      "outputs": []
    },
    {
      "cell_type": "code",
      "metadata": {
        "id": "NN4-YoUrQE7X"
      },
      "source": [
        "celsius_features = ['atmospheric_temperature(°C)', 'shaft_temperature(°C)', 'gearbox_temperature(°C)', 'engine_temperature(°C)',\n",
        "                    'generator_temperature(°C)', 'area_temperature(°C)', 'windmill_body_temperature(°C)']\n",
        "for feature in celsius_features:\n",
        "  X[feature] = X[feature].apply(C_to_K)\n",
        "# X[celsius_features] = X[celsius_features].apply()"
      ],
      "execution_count": 24,
      "outputs": []
    },
    {
      "cell_type": "markdown",
      "metadata": {
        "id": "T-682ieXQfO2"
      },
      "source": [
        "Also **Degree** to **Radian**."
      ]
    },
    {
      "cell_type": "code",
      "metadata": {
        "id": "S5kZdkB4SGAq"
      },
      "source": [
        "def Deg_to_Rad(row):\n",
        "  return row*0.01745 # pi/180 yeilds 0.01745"
      ],
      "execution_count": 26,
      "outputs": []
    },
    {
      "cell_type": "code",
      "metadata": {
        "id": "Yk5p-nmmSiTx"
      },
      "source": [
        "for feature in ['blades_angle(°)', 'wind_direction(°)']:\n",
        "  X[feature] = X[feature].apply(Deg_to_Rad)"
      ],
      "execution_count": 27,
      "outputs": []
    },
    {
      "cell_type": "markdown",
      "metadata": {
        "id": "UsUGQ5dMTWl6"
      },
      "source": [
        "Lets see what we have after these conversions:"
      ]
    },
    {
      "cell_type": "code",
      "metadata": {
        "colab": {
          "base_uri": "https://localhost:8080/",
          "height": 244
        },
        "id": "gqiJmFBYRnj2",
        "outputId": "efd15007-7515-4bd9-ed97-9d3fd8716ea8"
      },
      "source": [
        "X.head()"
      ],
      "execution_count": 28,
      "outputs": [
        {
          "output_type": "execute_result",
          "data": {
            "text/html": [
              "<div>\n",
              "<style scoped>\n",
              "    .dataframe tbody tr th:only-of-type {\n",
              "        vertical-align: middle;\n",
              "    }\n",
              "\n",
              "    .dataframe tbody tr th {\n",
              "        vertical-align: top;\n",
              "    }\n",
              "\n",
              "    .dataframe thead th {\n",
              "        text-align: right;\n",
              "    }\n",
              "</style>\n",
              "<table border=\"1\" class=\"dataframe\">\n",
              "  <thead>\n",
              "    <tr style=\"text-align: right;\">\n",
              "      <th></th>\n",
              "      <th>wind_speed(m/s)</th>\n",
              "      <th>atmospheric_temperature(°C)</th>\n",
              "      <th>shaft_temperature(°C)</th>\n",
              "      <th>blades_angle(°)</th>\n",
              "      <th>gearbox_temperature(°C)</th>\n",
              "      <th>engine_temperature(°C)</th>\n",
              "      <th>motor_torque(N-m)</th>\n",
              "      <th>generator_temperature(°C)</th>\n",
              "      <th>atmospheric_pressure(Pascal)</th>\n",
              "      <th>area_temperature(°C)</th>\n",
              "      <th>windmill_body_temperature(°C)</th>\n",
              "      <th>wind_direction(°)</th>\n",
              "      <th>resistance(ohm)</th>\n",
              "      <th>rotor_torque(N-m)</th>\n",
              "      <th>blade_length(m)</th>\n",
              "      <th>blade_breadth(m)</th>\n",
              "      <th>windmill_height(m)</th>\n",
              "      <th>turbine_status</th>\n",
              "      <th>cloud_level</th>\n",
              "    </tr>\n",
              "  </thead>\n",
              "  <tbody>\n",
              "    <tr>\n",
              "      <th>0</th>\n",
              "      <td>94.820023</td>\n",
              "      <td>174.150000</td>\n",
              "      <td>314.873019</td>\n",
              "      <td>-0.015765</td>\n",
              "      <td>355.560573</td>\n",
              "      <td>315.673015</td>\n",
              "      <td>2563.124522</td>\n",
              "      <td>349.815560</td>\n",
              "      <td>103402.961872</td>\n",
              "      <td>300.047875</td>\n",
              "      <td>293.949761</td>\n",
              "      <td>4.185145</td>\n",
              "      <td>2730.310605</td>\n",
              "      <td>42.084666</td>\n",
              "      <td>2.217542</td>\n",
              "      <td>0.314065</td>\n",
              "      <td>24.281689</td>\n",
              "      <td>BA</td>\n",
              "      <td>Medium</td>\n",
              "    </tr>\n",
              "    <tr>\n",
              "      <th>1</th>\n",
              "      <td>241.832734</td>\n",
              "      <td>300.914785</td>\n",
              "      <td>174.150000</td>\n",
              "      <td>-1.727550</td>\n",
              "      <td>317.254919</td>\n",
              "      <td>319.408870</td>\n",
              "      <td>2372.384119</td>\n",
              "      <td>351.279803</td>\n",
              "      <td>17030.904078</td>\n",
              "      <td>312.951469</td>\n",
              "      <td>293.949761</td>\n",
              "      <td>5.897135</td>\n",
              "      <td>1780.207200</td>\n",
              "      <td>107.888643</td>\n",
              "      <td>4.210346</td>\n",
              "      <td>0.448494</td>\n",
              "      <td>27.262139</td>\n",
              "      <td>A2</td>\n",
              "      <td>Medium</td>\n",
              "    </tr>\n",
              "    <tr>\n",
              "      <th>2</th>\n",
              "      <td>95.484724</td>\n",
              "      <td>273.533727</td>\n",
              "      <td>315.005473</td>\n",
              "      <td>0.220791</td>\n",
              "      <td>315.472098</td>\n",
              "      <td>316.028552</td>\n",
              "      <td>1657.169646</td>\n",
              "      <td>340.804469</td>\n",
              "      <td>16125.927107</td>\n",
              "      <td>309.266065</td>\n",
              "      <td>318.183197</td>\n",
              "      <td>3.975988</td>\n",
              "      <td>1666.049900</td>\n",
              "      <td>-42.931459</td>\n",
              "      <td>2.719475</td>\n",
              "      <td>0.302321</td>\n",
              "      <td>27.366127</td>\n",
              "      <td>ABC</td>\n",
              "      <td>Medium</td>\n",
              "    </tr>\n",
              "    <tr>\n",
              "      <th>3</th>\n",
              "      <td>238.819424</td>\n",
              "      <td>174.150000</td>\n",
              "      <td>318.593914</td>\n",
              "      <td>0.263762</td>\n",
              "      <td>317.909643</td>\n",
              "      <td>320.432101</td>\n",
              "      <td>2888.134079</td>\n",
              "      <td>368.539974</td>\n",
              "      <td>18689.732336</td>\n",
              "      <td>319.170045</td>\n",
              "      <td>317.977154</td>\n",
              "      <td>8.586823</td>\n",
              "      <td>1964.502895</td>\n",
              "      <td>42.744596</td>\n",
              "      <td>4.857385</td>\n",
              "      <td>0.367140</td>\n",
              "      <td>24.287767</td>\n",
              "      <td>ABC</td>\n",
              "      <td>Missing</td>\n",
              "    </tr>\n",
              "    <tr>\n",
              "      <th>4</th>\n",
              "      <td>10.722890</td>\n",
              "      <td>273.533727</td>\n",
              "      <td>315.131183</td>\n",
              "      <td>0.029939</td>\n",
              "      <td>255.533541</td>\n",
              "      <td>316.619852</td>\n",
              "      <td>781.695419</td>\n",
              "      <td>310.573065</td>\n",
              "      <td>114468.169007</td>\n",
              "      <td>307.722941</td>\n",
              "      <td>174.150000</td>\n",
              "      <td>4.524342</td>\n",
              "      <td>1177.516152</td>\n",
              "      <td>13.387289</td>\n",
              "      <td>2.254034</td>\n",
              "      <td>0.453374</td>\n",
              "      <td>27.971650</td>\n",
              "      <td>AAA</td>\n",
              "      <td>Medium</td>\n",
              "    </tr>\n",
              "  </tbody>\n",
              "</table>\n",
              "</div>"
            ],
            "text/plain": [
              "   wind_speed(m/s)  atmospheric_temperature(°C)  ...  turbine_status  cloud_level\n",
              "0        94.820023                   174.150000  ...              BA       Medium\n",
              "1       241.832734                   300.914785  ...              A2       Medium\n",
              "2        95.484724                   273.533727  ...             ABC       Medium\n",
              "3       238.819424                   174.150000  ...             ABC      Missing\n",
              "4        10.722890                   273.533727  ...             AAA       Medium\n",
              "\n",
              "[5 rows x 19 columns]"
            ]
          },
          "metadata": {
            "tags": []
          },
          "execution_count": 28
        }
      ]
    },
    {
      "cell_type": "markdown",
      "metadata": {
        "id": "9CHk0opMT4N-"
      },
      "source": [
        "Don't mind the column names!"
      ]
    },
    {
      "cell_type": "markdown",
      "metadata": {
        "id": "dAB9wU8lTNOS"
      },
      "source": [
        "### Splitting data Train and Test data"
      ]
    },
    {
      "cell_type": "code",
      "metadata": {
        "id": "zf1SuZUaN3YR"
      },
      "source": [
        "X_train, X_test, y_train, y_test = train_test_split(X, y, test_size=0.2, random_state=42)"
      ],
      "execution_count": 29,
      "outputs": []
    },
    {
      "cell_type": "markdown",
      "metadata": {
        "id": "rZs3Dhh5PW9L"
      },
      "source": [
        "### Scaling the data"
      ]
    },
    {
      "cell_type": "code",
      "metadata": {
        "colab": {
          "base_uri": "https://localhost:8080/"
        },
        "id": "SIwkCZw3PUsW",
        "outputId": "1b7e3fd0-8935-42c4-a684-432878c606e4"
      },
      "source": [
        "scaler = StandardScaler()\n",
        "X_train[numerical_feaures] = scaler.fit_transform(X_train[numerical_feaures])\n",
        "X_test[numerical_feaures] = scaler.transform(X_test[numerical_feaures])"
      ],
      "execution_count": 31,
      "outputs": [
        {
          "output_type": "stream",
          "text": [
            "/usr/local/lib/python3.7/dist-packages/ipykernel_launcher.py:2: SettingWithCopyWarning: \n",
            "A value is trying to be set on a copy of a slice from a DataFrame.\n",
            "Try using .loc[row_indexer,col_indexer] = value instead\n",
            "\n",
            "See the caveats in the documentation: https://pandas.pydata.org/pandas-docs/stable/user_guide/indexing.html#returning-a-view-versus-a-copy\n",
            "  \n",
            "/usr/local/lib/python3.7/dist-packages/pandas/core/indexing.py:1734: SettingWithCopyWarning: \n",
            "A value is trying to be set on a copy of a slice from a DataFrame.\n",
            "Try using .loc[row_indexer,col_indexer] = value instead\n",
            "\n",
            "See the caveats in the documentation: https://pandas.pydata.org/pandas-docs/stable/user_guide/indexing.html#returning-a-view-versus-a-copy\n",
            "  isetter(loc, value[:, i].tolist())\n",
            "/usr/local/lib/python3.7/dist-packages/ipykernel_launcher.py:3: SettingWithCopyWarning: \n",
            "A value is trying to be set on a copy of a slice from a DataFrame.\n",
            "Try using .loc[row_indexer,col_indexer] = value instead\n",
            "\n",
            "See the caveats in the documentation: https://pandas.pydata.org/pandas-docs/stable/user_guide/indexing.html#returning-a-view-versus-a-copy\n",
            "  This is separate from the ipykernel package so we can avoid doing imports until\n",
            "/usr/local/lib/python3.7/dist-packages/pandas/core/indexing.py:1734: SettingWithCopyWarning: \n",
            "A value is trying to be set on a copy of a slice from a DataFrame.\n",
            "Try using .loc[row_indexer,col_indexer] = value instead\n",
            "\n",
            "See the caveats in the documentation: https://pandas.pydata.org/pandas-docs/stable/user_guide/indexing.html#returning-a-view-versus-a-copy\n",
            "  isetter(loc, value[:, i].tolist())\n"
          ],
          "name": "stderr"
        }
      ]
    },
    {
      "cell_type": "code",
      "metadata": {
        "colab": {
          "base_uri": "https://localhost:8080/",
          "height": 244
        },
        "id": "vAhLPJ_1USiL",
        "outputId": "706e3937-619e-4c83-ea48-6f0ca92f35c5"
      },
      "source": [
        "X_train.head()"
      ],
      "execution_count": 32,
      "outputs": [
        {
          "output_type": "execute_result",
          "data": {
            "text/html": [
              "<div>\n",
              "<style scoped>\n",
              "    .dataframe tbody tr th:only-of-type {\n",
              "        vertical-align: middle;\n",
              "    }\n",
              "\n",
              "    .dataframe tbody tr th {\n",
              "        vertical-align: top;\n",
              "    }\n",
              "\n",
              "    .dataframe thead th {\n",
              "        text-align: right;\n",
              "    }\n",
              "</style>\n",
              "<table border=\"1\" class=\"dataframe\">\n",
              "  <thead>\n",
              "    <tr style=\"text-align: right;\">\n",
              "      <th></th>\n",
              "      <th>wind_speed(m/s)</th>\n",
              "      <th>atmospheric_temperature(°C)</th>\n",
              "      <th>shaft_temperature(°C)</th>\n",
              "      <th>blades_angle(°)</th>\n",
              "      <th>gearbox_temperature(°C)</th>\n",
              "      <th>engine_temperature(°C)</th>\n",
              "      <th>motor_torque(N-m)</th>\n",
              "      <th>generator_temperature(°C)</th>\n",
              "      <th>atmospheric_pressure(Pascal)</th>\n",
              "      <th>area_temperature(°C)</th>\n",
              "      <th>windmill_body_temperature(°C)</th>\n",
              "      <th>wind_direction(°)</th>\n",
              "      <th>resistance(ohm)</th>\n",
              "      <th>rotor_torque(N-m)</th>\n",
              "      <th>blade_length(m)</th>\n",
              "      <th>blade_breadth(m)</th>\n",
              "      <th>windmill_height(m)</th>\n",
              "      <th>turbine_status</th>\n",
              "      <th>cloud_level</th>\n",
              "    </tr>\n",
              "  </thead>\n",
              "  <tbody>\n",
              "    <tr>\n",
              "      <th>1631</th>\n",
              "      <td>-0.704840</td>\n",
              "      <td>-0.000423</td>\n",
              "      <td>0.184999</td>\n",
              "      <td>0.193514</td>\n",
              "      <td>0.077405</td>\n",
              "      <td>0.643894</td>\n",
              "      <td>-1.119479</td>\n",
              "      <td>-1.230133</td>\n",
              "      <td>0.349917</td>\n",
              "      <td>0.310706</td>\n",
              "      <td>0.003175</td>\n",
              "      <td>1.910353</td>\n",
              "      <td>-0.744247</td>\n",
              "      <td>-0.430012</td>\n",
              "      <td>0.138893</td>\n",
              "      <td>1.146879</td>\n",
              "      <td>0.025197</td>\n",
              "      <td>BD</td>\n",
              "      <td>Medium</td>\n",
              "    </tr>\n",
              "    <tr>\n",
              "      <th>17088</th>\n",
              "      <td>0.329642</td>\n",
              "      <td>0.616009</td>\n",
              "      <td>0.161298</td>\n",
              "      <td>0.179394</td>\n",
              "      <td>0.114200</td>\n",
              "      <td>0.253721</td>\n",
              "      <td>0.712223</td>\n",
              "      <td>0.416198</td>\n",
              "      <td>-0.202583</td>\n",
              "      <td>-0.837380</td>\n",
              "      <td>0.439367</td>\n",
              "      <td>0.001108</td>\n",
              "      <td>0.453566</td>\n",
              "      <td>0.341220</td>\n",
              "      <td>0.208209</td>\n",
              "      <td>0.969129</td>\n",
              "      <td>0.100219</td>\n",
              "      <td>ABC</td>\n",
              "      <td>Medium</td>\n",
              "    </tr>\n",
              "    <tr>\n",
              "      <th>18421</th>\n",
              "      <td>0.259316</td>\n",
              "      <td>0.429557</td>\n",
              "      <td>-0.075800</td>\n",
              "      <td>0.179581</td>\n",
              "      <td>-1.741838</td>\n",
              "      <td>0.488598</td>\n",
              "      <td>0.880451</td>\n",
              "      <td>1.213604</td>\n",
              "      <td>2.633006</td>\n",
              "      <td>-3.591698</td>\n",
              "      <td>0.326365</td>\n",
              "      <td>2.095076</td>\n",
              "      <td>0.541600</td>\n",
              "      <td>-1.477262</td>\n",
              "      <td>0.153536</td>\n",
              "      <td>-0.053846</td>\n",
              "      <td>0.244926</td>\n",
              "      <td>BA</td>\n",
              "      <td>Medium</td>\n",
              "    </tr>\n",
              "    <tr>\n",
              "      <th>22209</th>\n",
              "      <td>0.354854</td>\n",
              "      <td>0.566472</td>\n",
              "      <td>0.129847</td>\n",
              "      <td>1.145268</td>\n",
              "      <td>0.735607</td>\n",
              "      <td>-0.243219</td>\n",
              "      <td>-0.691000</td>\n",
              "      <td>0.184809</td>\n",
              "      <td>-0.205702</td>\n",
              "      <td>-0.347788</td>\n",
              "      <td>0.479878</td>\n",
              "      <td>-0.570475</td>\n",
              "      <td>0.181553</td>\n",
              "      <td>-0.119930</td>\n",
              "      <td>-0.000408</td>\n",
              "      <td>0.354495</td>\n",
              "      <td>-1.562545</td>\n",
              "      <td>A</td>\n",
              "      <td>Low</td>\n",
              "    </tr>\n",
              "    <tr>\n",
              "      <th>1534</th>\n",
              "      <td>0.349538</td>\n",
              "      <td>0.701377</td>\n",
              "      <td>0.184653</td>\n",
              "      <td>0.201522</td>\n",
              "      <td>0.084198</td>\n",
              "      <td>0.212007</td>\n",
              "      <td>0.633109</td>\n",
              "      <td>0.456210</td>\n",
              "      <td>-0.203232</td>\n",
              "      <td>-0.603670</td>\n",
              "      <td>0.471336</td>\n",
              "      <td>-0.418287</td>\n",
              "      <td>0.339715</td>\n",
              "      <td>0.294291</td>\n",
              "      <td>0.162438</td>\n",
              "      <td>0.021710</td>\n",
              "      <td>0.259762</td>\n",
              "      <td>AB</td>\n",
              "      <td>Low</td>\n",
              "    </tr>\n",
              "  </tbody>\n",
              "</table>\n",
              "</div>"
            ],
            "text/plain": [
              "       wind_speed(m/s)  atmospheric_temperature(°C)  ...  turbine_status  cloud_level\n",
              "1631         -0.704840                    -0.000423  ...              BD       Medium\n",
              "17088         0.329642                     0.616009  ...             ABC       Medium\n",
              "18421         0.259316                     0.429557  ...              BA       Medium\n",
              "22209         0.354854                     0.566472  ...               A          Low\n",
              "1534          0.349538                     0.701377  ...              AB          Low\n",
              "\n",
              "[5 rows x 19 columns]"
            ]
          },
          "metadata": {
            "tags": []
          },
          "execution_count": 32
        }
      ]
    },
    {
      "cell_type": "markdown",
      "metadata": {
        "id": "nW_bDXdeXBrq"
      },
      "source": [
        "### Converting Categorical Feature values into Numeric form"
      ]
    },
    {
      "cell_type": "code",
      "metadata": {
        "id": "2iPHZFJlUkuQ"
      },
      "source": [
        "# convert categorical features to numerical value for modelling\n",
        "def categorify(df, cat_vars):\n",
        "  categories = {}\n",
        "  for cat in cat_vars:\n",
        "    df[cat] = df[cat].astype(\"category\").cat.as_ordered()\n",
        "    categories[cat] = df[cat].cat.categories\n",
        "  return categories\n",
        "\n",
        "# apply these values to test data\n",
        "def apply_test(test, categories):\n",
        "  for cat, index in categories.items():\n",
        "    test[cat] = pd.Categorical(test[cat], categories=categories[cat], ordered=True)"
      ],
      "execution_count": 33,
      "outputs": []
    },
    {
      "cell_type": "code",
      "metadata": {
        "colab": {
          "base_uri": "https://localhost:8080/"
        },
        "id": "FfJPofbZVEvg",
        "outputId": "0e9d5ba1-fb61-4b82-fbc2-76d54b60109a"
      },
      "source": [
        "categories = categorify(X_train, categorical_features)\n",
        "apply_test(X_test, categories)\n",
        "\n",
        "for cat in categorical_features:\n",
        "  X_train[cat] = X_train[cat].cat.codes+1\n",
        "  X_test[cat] = X_test[cat].cat.codes+1"
      ],
      "execution_count": 34,
      "outputs": [
        {
          "output_type": "stream",
          "text": [
            "/usr/local/lib/python3.7/dist-packages/ipykernel_launcher.py:5: SettingWithCopyWarning: \n",
            "A value is trying to be set on a copy of a slice from a DataFrame.\n",
            "Try using .loc[row_indexer,col_indexer] = value instead\n",
            "\n",
            "See the caveats in the documentation: https://pandas.pydata.org/pandas-docs/stable/user_guide/indexing.html#returning-a-view-versus-a-copy\n",
            "  \"\"\"\n",
            "/usr/local/lib/python3.7/dist-packages/ipykernel_launcher.py:12: SettingWithCopyWarning: \n",
            "A value is trying to be set on a copy of a slice from a DataFrame.\n",
            "Try using .loc[row_indexer,col_indexer] = value instead\n",
            "\n",
            "See the caveats in the documentation: https://pandas.pydata.org/pandas-docs/stable/user_guide/indexing.html#returning-a-view-versus-a-copy\n",
            "  if sys.path[0] == '':\n",
            "/usr/local/lib/python3.7/dist-packages/ipykernel_launcher.py:6: SettingWithCopyWarning: \n",
            "A value is trying to be set on a copy of a slice from a DataFrame.\n",
            "Try using .loc[row_indexer,col_indexer] = value instead\n",
            "\n",
            "See the caveats in the documentation: https://pandas.pydata.org/pandas-docs/stable/user_guide/indexing.html#returning-a-view-versus-a-copy\n",
            "  \n"
          ],
          "name": "stderr"
        }
      ]
    },
    {
      "cell_type": "markdown",
      "metadata": {
        "id": "YjjCKMf8XNpb"
      },
      "source": [
        "## Model"
      ]
    },
    {
      "cell_type": "code",
      "metadata": {
        "id": "OTiti2oDVWaE"
      },
      "source": [
        "# get embedding size for each categorical variable\n",
        "def get_emb_sz(cat_col, categories_dict):\n",
        "  num_classes = len(categories_dict[cat_col])\n",
        "  return int(min(600, round(1.6*num_classes**0.56)))"
      ],
      "execution_count": 35,
      "outputs": []
    },
    {
      "cell_type": "markdown",
      "metadata": {
        "id": "2CTGOtHEV81K"
      },
      "source": [
        "This function was created following [Jeremy Howard’s ‘Introduction to Machine Learning for Coders’](https://course18.fast.ai/ml) course."
      ]
    },
    {
      "cell_type": "code",
      "metadata": {
        "id": "GnIVyAIvVqx8"
      },
      "source": [
        "def define_model(categorical_features, categories_dict, numerical_feaures, layers):\n",
        "  inputs = []\n",
        "  embeddings = []\n",
        "  emb_dict ={}\n",
        "  \n",
        "  # create embedding layer for each categorical variables\n",
        "  for cat in categorical_features:\n",
        "    emb_dict[cat] = Input(shape=(1,))\n",
        "    emb_sz = get_emb_sz(cat, categories_dict)\n",
        "    vocab = len(categories_dict[cat])+1\n",
        "    embedding = Embedding(vocab, emb_sz, input_length=1)(emb_dict[cat])\n",
        "    embedding = Reshape(target_shape=(emb_sz,))(embedding)\n",
        "    inputs.append(emb_dict[cat])\n",
        "    embeddings.append(embedding)\n",
        "  \n",
        "  # concat numerical variables with embedded variables\n",
        "  cont_input = Input(shape=(len(numerical_feaures),))\n",
        "  embedding = BatchNormalization()(cont_input)\n",
        "  inputs.append(cont_input)\n",
        "  embeddings.append(embedding)\n",
        "  x = Concatenate()(embeddings)\n",
        "  \n",
        "  # add user-defined fully-connected layers separated with batchnorm and dropout layers\n",
        "  for i in range(len(layers)):\n",
        "    if i == 0:\n",
        "      x = Dense(layers[i], activation=\"relu\")(x)\n",
        "    else:\n",
        "      x = BatchNormalization()(x)\n",
        "      x = Dropout(0.5)(x)\n",
        "      x = Dense(layers[i], activation=\"relu\")(x)\n",
        "  output = Dense(1)(x)\n",
        "  model = Model(inputs, output)\n",
        "  return model"
      ],
      "execution_count": 36,
      "outputs": []
    },
    {
      "cell_type": "code",
      "metadata": {
        "colab": {
          "base_uri": "https://localhost:8080/"
        },
        "id": "fvqwnP8vW6Ql",
        "outputId": "accd7664-2bec-4e99-e286-55a6b3170ff1"
      },
      "source": [
        "layers = [200, 100]\n",
        "model = define_model(categorical_features, categories, numerical_feaures, layers)\n",
        "model.compile(optimizer=tf.keras.optimizers.Adam(0.0001),\n",
        "              loss=tf.keras.losses.MeanSquaredError(),\n",
        "              metrics=[\"mean_squared_error\", \"cosine_similarity\"])\n",
        "model.summary()"
      ],
      "execution_count": 60,
      "outputs": [
        {
          "output_type": "stream",
          "text": [
            "Model: \"model_6\"\n",
            "__________________________________________________________________________________________________\n",
            "Layer (type)                    Output Shape         Param #     Connected to                     \n",
            "==================================================================================================\n",
            "input_19 (InputLayer)           [(None, 1)]          0                                            \n",
            "__________________________________________________________________________________________________\n",
            "input_20 (InputLayer)           [(None, 1)]          0                                            \n",
            "__________________________________________________________________________________________________\n",
            "embedding_12 (Embedding)        (None, 1, 7)         112         input_19[0][0]                   \n",
            "__________________________________________________________________________________________________\n",
            "embedding_13 (Embedding)        (None, 1, 3)         15          input_20[0][0]                   \n",
            "__________________________________________________________________________________________________\n",
            "input_21 (InputLayer)           [(None, 17)]         0                                            \n",
            "__________________________________________________________________________________________________\n",
            "reshape_12 (Reshape)            (None, 7)            0           embedding_12[0][0]               \n",
            "__________________________________________________________________________________________________\n",
            "reshape_13 (Reshape)            (None, 3)            0           embedding_13[0][0]               \n",
            "__________________________________________________________________________________________________\n",
            "batch_normalization_15 (BatchNo (None, 17)           68          input_21[0][0]                   \n",
            "__________________________________________________________________________________________________\n",
            "concatenate_6 (Concatenate)     (None, 27)           0           reshape_12[0][0]                 \n",
            "                                                                 reshape_13[0][0]                 \n",
            "                                                                 batch_normalization_15[0][0]     \n",
            "__________________________________________________________________________________________________\n",
            "dense_21 (Dense)                (None, 200)          5600        concatenate_6[0][0]              \n",
            "__________________________________________________________________________________________________\n",
            "batch_normalization_16 (BatchNo (None, 200)          800         dense_21[0][0]                   \n",
            "__________________________________________________________________________________________________\n",
            "dropout_9 (Dropout)             (None, 200)          0           batch_normalization_16[0][0]     \n",
            "__________________________________________________________________________________________________\n",
            "dense_22 (Dense)                (None, 100)          20100       dropout_9[0][0]                  \n",
            "__________________________________________________________________________________________________\n",
            "dense_23 (Dense)                (None, 1)            101         dense_22[0][0]                   \n",
            "==================================================================================================\n",
            "Total params: 26,796\n",
            "Trainable params: 26,362\n",
            "Non-trainable params: 434\n",
            "__________________________________________________________________________________________________\n"
          ],
          "name": "stdout"
        }
      ]
    },
    {
      "cell_type": "code",
      "metadata": {
        "id": "YEeHXplZXhVO"
      },
      "source": [
        "# process x_train input to fit model\n",
        "input_list = []\n",
        "for cat in categorical_features:\n",
        "  input_list.append(X_train[cat].values)\n",
        "input_list.append(X_train[numerical_feaures].values)\n",
        "\n",
        "# modify x_test input to fit model\n",
        "test_list = []\n",
        "for cat in categorical_features:\n",
        "  test_list.append(X_test[cat].values)\n",
        "test_list.append(X_test[numerical_feaures].values)"
      ],
      "execution_count": 39,
      "outputs": []
    },
    {
      "cell_type": "code",
      "metadata": {
        "colab": {
          "base_uri": "https://localhost:8080/"
        },
        "id": "YYBiN72PXxhh",
        "outputId": "1f083c83-64d4-4918-adf7-23dd18aa9ae3"
      },
      "source": [
        "model.fit(input_list, y_train, epochs=10)"
      ],
      "execution_count": 61,
      "outputs": [
        {
          "output_type": "stream",
          "text": [
            "Epoch 1/10\n",
            "705/705 [==============================] - 3s 3ms/step - loss: 9.3989 - mean_squared_error: 9.3989 - cosine_similarity: 0.9733\n",
            "Epoch 2/10\n",
            "705/705 [==============================] - 2s 2ms/step - loss: 4.4764 - mean_squared_error: 4.4764 - cosine_similarity: 0.9999\n",
            "Epoch 3/10\n",
            "705/705 [==============================] - 2s 2ms/step - loss: 3.9167 - mean_squared_error: 3.9167 - cosine_similarity: 0.9998\n",
            "Epoch 4/10\n",
            "705/705 [==============================] - 2s 2ms/step - loss: 3.5959 - mean_squared_error: 3.5959 - cosine_similarity: 0.9998\n",
            "Epoch 5/10\n",
            "705/705 [==============================] - 2s 3ms/step - loss: 3.4400 - mean_squared_error: 3.4400 - cosine_similarity: 0.9998\n",
            "Epoch 6/10\n",
            "705/705 [==============================] - 2s 3ms/step - loss: 3.3346 - mean_squared_error: 3.3346 - cosine_similarity: 0.9999\n",
            "Epoch 7/10\n",
            "705/705 [==============================] - 2s 2ms/step - loss: 3.1574 - mean_squared_error: 3.1574 - cosine_similarity: 1.0000\n",
            "Epoch 8/10\n",
            "705/705 [==============================] - 2s 2ms/step - loss: 3.0347 - mean_squared_error: 3.0347 - cosine_similarity: 0.9996\n",
            "Epoch 9/10\n",
            "705/705 [==============================] - 2s 2ms/step - loss: 2.9321 - mean_squared_error: 2.9321 - cosine_similarity: 1.0000\n",
            "Epoch 10/10\n",
            "705/705 [==============================] - 2s 2ms/step - loss: 2.8981 - mean_squared_error: 2.8981 - cosine_similarity: 0.9998\n"
          ],
          "name": "stdout"
        },
        {
          "output_type": "execute_result",
          "data": {
            "text/plain": [
              "<tensorflow.python.keras.callbacks.History at 0x7f94ecbe1390>"
            ]
          },
          "metadata": {
            "tags": []
          },
          "execution_count": 61
        }
      ]
    },
    {
      "cell_type": "code",
      "metadata": {
        "id": "t8vTGTTPX9l3"
      },
      "source": [
        "y_pred = model.predict(test_list)"
      ],
      "execution_count": 62,
      "outputs": []
    },
    {
      "cell_type": "code",
      "metadata": {
        "colab": {
          "base_uri": "https://localhost:8080/"
        },
        "id": "UoNXKEq6YwC8",
        "outputId": "b7668ba5-e8e1-435b-bce9-5c77d77d7fe4"
      },
      "source": [
        "metrics.r2_score(y_test, y_pred)"
      ],
      "execution_count": 63,
      "outputs": [
        {
          "output_type": "execute_result",
          "data": {
            "text/plain": [
              "0.6916928084215341"
            ]
          },
          "metadata": {
            "tags": []
          },
          "execution_count": 63
        }
      ]
    },
    {
      "cell_type": "code",
      "metadata": {
        "id": "N29PYPx_Y6II"
      },
      "source": [
        "def test_data_prediction(test, scaler, categories, model):\n",
        "  # selecting the features that i want\n",
        "  X = test[numerical_feaures+categorical_features].copy()\n",
        "  # fill the missing values\n",
        "  for feature in numerical_feaures:\n",
        "    X[feature].fillna(X[feature].mean(), inplace=True)\n",
        "  X[categorical_features].fillna(\"Missing\", inplace=True)\n",
        "  # convert Celsius to Kelvin\n",
        "  for feature in celsius_features:\n",
        "    X[feature] = X[feature].apply(C_to_K)\n",
        "  # convert Degree to Radian\n",
        "  for feature in ['blades_angle(°)', 'wind_direction(°)']:\n",
        "    X[feature] = X[feature].apply(Deg_to_Rad)\n",
        "  # scale the data\n",
        "  X[numerical_feaures] = scaler.transform(X[numerical_feaures])\n",
        "  # convert categorical feature values into numeric form\n",
        "  apply_test(X, categories)\n",
        "  for cat in categorical_features:\n",
        "    X[cat] = X[cat].cat.codes+1\n",
        "  # prepare the data for input\n",
        "  test_list = []\n",
        "  for cat in categorical_features:\n",
        "    test_list.append(X[cat].values)\n",
        "  test_list.append(X[numerical_feaures].values)\n",
        "\n",
        "  return model.predict(test_list)"
      ],
      "execution_count": 69,
      "outputs": []
    },
    {
      "cell_type": "code",
      "metadata": {
        "colab": {
          "base_uri": "https://localhost:8080/"
        },
        "id": "aEkoQ391jKfp",
        "outputId": "84fe948e-c2ee-41dd-e9d7-cbc930849e0d"
      },
      "source": [
        "predictions = test_data_prediction(test, scaler, categories, model)"
      ],
      "execution_count": 70,
      "outputs": [
        {
          "output_type": "stream",
          "text": [
            "/usr/local/lib/python3.7/dist-packages/pandas/core/frame.py:4327: SettingWithCopyWarning: \n",
            "A value is trying to be set on a copy of a slice from a DataFrame\n",
            "\n",
            "See the caveats in the documentation: https://pandas.pydata.org/pandas-docs/stable/user_guide/indexing.html#returning-a-view-versus-a-copy\n",
            "  downcast=downcast,\n"
          ],
          "name": "stderr"
        }
      ]
    },
    {
      "cell_type": "code",
      "metadata": {
        "colab": {
          "base_uri": "https://localhost:8080/"
        },
        "id": "tq_5FltnlW3F",
        "outputId": "ccfc2aeb-d81c-4799-b31d-2fed5543e7a8"
      },
      "source": [
        "predictions[:5]"
      ],
      "execution_count": 72,
      "outputs": [
        {
          "output_type": "execute_result",
          "data": {
            "text/plain": [
              "array([[2.4626923],\n",
              "       [3.4783986],\n",
              "       [2.4836075],\n",
              "       [4.148167 ],\n",
              "       [4.6949306]], dtype=float32)"
            ]
          },
          "metadata": {
            "tags": []
          },
          "execution_count": 72
        }
      ]
    },
    {
      "cell_type": "code",
      "metadata": {
        "colab": {
          "base_uri": "https://localhost:8080/"
        },
        "id": "RsWiaPUtnD9w",
        "outputId": "510aa2e3-44e2-4832-9538-f4bdfa3b7819"
      },
      "source": [
        "output_df = test[['tracking_id', 'datetime']]\n",
        "output_df['windmill_generated_power(kW/h)'] = pd.DataFrame(data=predictions, columns=['windmill_generated_power(kW/h)'])"
      ],
      "execution_count": 74,
      "outputs": [
        {
          "output_type": "stream",
          "text": [
            "/usr/local/lib/python3.7/dist-packages/ipykernel_launcher.py:2: SettingWithCopyWarning: \n",
            "A value is trying to be set on a copy of a slice from a DataFrame.\n",
            "Try using .loc[row_indexer,col_indexer] = value instead\n",
            "\n",
            "See the caveats in the documentation: https://pandas.pydata.org/pandas-docs/stable/user_guide/indexing.html#returning-a-view-versus-a-copy\n",
            "  \n"
          ],
          "name": "stderr"
        }
      ]
    },
    {
      "cell_type": "code",
      "metadata": {
        "colab": {
          "base_uri": "https://localhost:8080/",
          "height": 207
        },
        "id": "nG8sQWFNndpc",
        "outputId": "c6d8827e-83e9-431f-e91c-d6cd6802c57a"
      },
      "source": [
        "output_df.head()"
      ],
      "execution_count": 75,
      "outputs": [
        {
          "output_type": "execute_result",
          "data": {
            "text/html": [
              "<div>\n",
              "<style scoped>\n",
              "    .dataframe tbody tr th:only-of-type {\n",
              "        vertical-align: middle;\n",
              "    }\n",
              "\n",
              "    .dataframe tbody tr th {\n",
              "        vertical-align: top;\n",
              "    }\n",
              "\n",
              "    .dataframe thead th {\n",
              "        text-align: right;\n",
              "    }\n",
              "</style>\n",
              "<table border=\"1\" class=\"dataframe\">\n",
              "  <thead>\n",
              "    <tr style=\"text-align: right;\">\n",
              "      <th></th>\n",
              "      <th>tracking_id</th>\n",
              "      <th>datetime</th>\n",
              "      <th>windmill_generated_power(kW/h)</th>\n",
              "    </tr>\n",
              "  </thead>\n",
              "  <tbody>\n",
              "    <tr>\n",
              "      <th>0</th>\n",
              "      <td>WM_19817</td>\n",
              "      <td>2019-04-17 08:53:20</td>\n",
              "      <td>2.462692</td>\n",
              "    </tr>\n",
              "    <tr>\n",
              "      <th>1</th>\n",
              "      <td>WM_18723</td>\n",
              "      <td>2019-03-30 07:43:20</td>\n",
              "      <td>3.478399</td>\n",
              "    </tr>\n",
              "    <tr>\n",
              "      <th>2</th>\n",
              "      <td>WM_34552</td>\n",
              "      <td>2019-08-10 11:33:20</td>\n",
              "      <td>2.483608</td>\n",
              "    </tr>\n",
              "    <tr>\n",
              "      <th>3</th>\n",
              "      <td>WM_28570</td>\n",
              "      <td>2019-06-26 03:53:20</td>\n",
              "      <td>4.148167</td>\n",
              "    </tr>\n",
              "    <tr>\n",
              "      <th>4</th>\n",
              "      <td>WM_36934</td>\n",
              "      <td>2019-08-27 16:43:20</td>\n",
              "      <td>4.694931</td>\n",
              "    </tr>\n",
              "  </tbody>\n",
              "</table>\n",
              "</div>"
            ],
            "text/plain": [
              "  tracking_id             datetime  windmill_generated_power(kW/h)\n",
              "0    WM_19817  2019-04-17 08:53:20                        2.462692\n",
              "1    WM_18723  2019-03-30 07:43:20                        3.478399\n",
              "2    WM_34552  2019-08-10 11:33:20                        2.483608\n",
              "3    WM_28570  2019-06-26 03:53:20                        4.148167\n",
              "4    WM_36934  2019-08-27 16:43:20                        4.694931"
            ]
          },
          "metadata": {
            "tags": []
          },
          "execution_count": 75
        }
      ]
    },
    {
      "cell_type": "code",
      "metadata": {
        "id": "zJVRoHrOnoXZ"
      },
      "source": [
        "output_df.to_csv('predictions.csv')"
      ],
      "execution_count": 76,
      "outputs": []
    },
    {
      "cell_type": "code",
      "metadata": {
        "id": "9mdZ5OnlnyVj"
      },
      "source": [
        ""
      ],
      "execution_count": null,
      "outputs": []
    }
  ]
}