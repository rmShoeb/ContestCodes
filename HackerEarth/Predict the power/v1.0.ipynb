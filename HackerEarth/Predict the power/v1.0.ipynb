{
  "nbformat": 4,
  "nbformat_minor": 0,
  "metadata": {
    "colab": {
      "name": "hackerearth-predict-the-power.ipynb",
      "provenance": [],
      "collapsed_sections": [
        "VLn6nSEkTRXq",
        "O9sGaHBZXYrX",
        "-ixY52aJTn0a",
        "JWvuSfc7Ym6C"
      ]
    },
    "kernelspec": {
      "name": "python3",
      "display_name": "Python 3"
    },
    "language_info": {
      "name": "python"
    }
  },
  "cells": [
    {
      "cell_type": "markdown",
      "metadata": {
        "id": "rJsAmD5ARVUl"
      },
      "source": [
        "# Predict the power - Hackerearth Challenge"
      ]
    },
    {
      "cell_type": "markdown",
      "metadata": {
        "id": "ubMW0cYYR4Nf"
      },
      "source": [
        "<a href=\"https://www.hackerearth.com/challenges/competitive/hackerearth-machine-learning-challenge-predict-windmill-power/machine-learning/predict-the-power-kwh-produced-from-the-windmills-8-f055f832/\">Challenge Link</a>"
      ]
    },
    {
      "cell_type": "markdown",
      "metadata": {
        "id": "zb5YGM_8Rjeq"
      },
      "source": [
        "## Imports"
      ]
    },
    {
      "cell_type": "code",
      "metadata": {
        "id": "RFBMDYIYVqk_"
      },
      "source": [
        "import matplotlib.pyplot as plt\n",
        "import numpy as np\n",
        "import pandas as pd\n",
        "import seaborn as sns"
      ],
      "execution_count": 1,
      "outputs": []
    },
    {
      "cell_type": "code",
      "metadata": {
        "id": "MQ-1hu4cYs47"
      },
      "source": [
        "from sklearn.model_selection import train_test_split"
      ],
      "execution_count": 2,
      "outputs": []
    },
    {
      "cell_type": "code",
      "metadata": {
        "id": "c-sdaf9uGlxa"
      },
      "source": [
        "from sklearn.linear_model import LinearRegression, Ridge"
      ],
      "execution_count": 3,
      "outputs": []
    },
    {
      "cell_type": "markdown",
      "metadata": {
        "id": "IPhXN1BMTQKq"
      },
      "source": [
        "## Data"
      ]
    },
    {
      "cell_type": "markdown",
      "metadata": {
        "id": "VLn6nSEkTRXq"
      },
      "source": [
        "### Importing the data"
      ]
    },
    {
      "cell_type": "code",
      "metadata": {
        "colab": {
          "base_uri": "https://localhost:8080/"
        },
        "id": "8UV37dTtSUuI",
        "outputId": "387a5b76-1f3b-4f55-83f2-a157ac41065b"
      },
      "source": [
        "from google.colab import drive\n",
        "drive.mount('/content/drive')"
      ],
      "execution_count": 4,
      "outputs": [
        {
          "output_type": "stream",
          "text": [
            "Drive already mounted at /content/drive; to attempt to forcibly remount, call drive.mount(\"/content/drive\", force_remount=True).\n"
          ],
          "name": "stdout"
        }
      ]
    },
    {
      "cell_type": "code",
      "metadata": {
        "colab": {
          "base_uri": "https://localhost:8080/"
        },
        "id": "9KWnxM9mVDDU",
        "outputId": "0ca1db9d-f607-43ee-c7f6-0bc9e746cc29"
      },
      "source": [
        "%cd '/content/drive/Shareddrives/With Myself/HackerEarth-ml-competitions/predict-the-power'"
      ],
      "execution_count": 5,
      "outputs": [
        {
          "output_type": "stream",
          "text": [
            "/content/drive/Shareddrives/With Myself/HackerEarth-ml-competitions/predict-the-power\n"
          ],
          "name": "stdout"
        }
      ]
    },
    {
      "cell_type": "code",
      "metadata": {
        "id": "_XOSp2CeWsIO"
      },
      "source": [
        "data = pd.read_csv('dataset/train.csv')"
      ],
      "execution_count": 6,
      "outputs": []
    },
    {
      "cell_type": "code",
      "metadata": {
        "colab": {
          "base_uri": "https://localhost:8080/",
          "height": 331
        },
        "id": "U2Tha0qoXA9H",
        "outputId": "ff28cd85-9812-49ab-e399-baada683a55b"
      },
      "source": [
        "data.head()"
      ],
      "execution_count": 7,
      "outputs": [
        {
          "output_type": "execute_result",
          "data": {
            "text/html": [
              "<div>\n",
              "<style scoped>\n",
              "    .dataframe tbody tr th:only-of-type {\n",
              "        vertical-align: middle;\n",
              "    }\n",
              "\n",
              "    .dataframe tbody tr th {\n",
              "        vertical-align: top;\n",
              "    }\n",
              "\n",
              "    .dataframe thead th {\n",
              "        text-align: right;\n",
              "    }\n",
              "</style>\n",
              "<table border=\"1\" class=\"dataframe\">\n",
              "  <thead>\n",
              "    <tr style=\"text-align: right;\">\n",
              "      <th></th>\n",
              "      <th>tracking_id</th>\n",
              "      <th>datetime</th>\n",
              "      <th>wind_speed(m/s)</th>\n",
              "      <th>atmospheric_temperature(°C)</th>\n",
              "      <th>shaft_temperature(°C)</th>\n",
              "      <th>blades_angle(°)</th>\n",
              "      <th>gearbox_temperature(°C)</th>\n",
              "      <th>engine_temperature(°C)</th>\n",
              "      <th>motor_torque(N-m)</th>\n",
              "      <th>generator_temperature(°C)</th>\n",
              "      <th>atmospheric_pressure(Pascal)</th>\n",
              "      <th>area_temperature(°C)</th>\n",
              "      <th>windmill_body_temperature(°C)</th>\n",
              "      <th>wind_direction(°)</th>\n",
              "      <th>resistance(ohm)</th>\n",
              "      <th>rotor_torque(N-m)</th>\n",
              "      <th>turbine_status</th>\n",
              "      <th>cloud_level</th>\n",
              "      <th>blade_length(m)</th>\n",
              "      <th>blade_breadth(m)</th>\n",
              "      <th>windmill_height(m)</th>\n",
              "      <th>windmill_generated_power(kW/h)</th>\n",
              "    </tr>\n",
              "  </thead>\n",
              "  <tbody>\n",
              "    <tr>\n",
              "      <th>0</th>\n",
              "      <td>WM_33725</td>\n",
              "      <td>2019-08-04 14:33:20</td>\n",
              "      <td>94.820023</td>\n",
              "      <td>-99.000000</td>\n",
              "      <td>41.723019</td>\n",
              "      <td>-0.903423</td>\n",
              "      <td>82.410573</td>\n",
              "      <td>42.523015</td>\n",
              "      <td>2563.124522</td>\n",
              "      <td>76.665560</td>\n",
              "      <td>103402.961872</td>\n",
              "      <td>26.897875</td>\n",
              "      <td>NaN</td>\n",
              "      <td>239.836388</td>\n",
              "      <td>2730.310605</td>\n",
              "      <td>42.084666</td>\n",
              "      <td>BA</td>\n",
              "      <td>Medium</td>\n",
              "      <td>2.217542</td>\n",
              "      <td>0.314065</td>\n",
              "      <td>24.281689</td>\n",
              "      <td>6.766521</td>\n",
              "    </tr>\n",
              "    <tr>\n",
              "      <th>1</th>\n",
              "      <td>WM_698</td>\n",
              "      <td>2018-11-05 10:13:20</td>\n",
              "      <td>241.832734</td>\n",
              "      <td>27.764785</td>\n",
              "      <td>-99.000000</td>\n",
              "      <td>-99.000000</td>\n",
              "      <td>44.104919</td>\n",
              "      <td>46.258870</td>\n",
              "      <td>2372.384119</td>\n",
              "      <td>78.129803</td>\n",
              "      <td>17030.904078</td>\n",
              "      <td>39.801469</td>\n",
              "      <td>NaN</td>\n",
              "      <td>337.944723</td>\n",
              "      <td>1780.207200</td>\n",
              "      <td>107.888643</td>\n",
              "      <td>A2</td>\n",
              "      <td>Medium</td>\n",
              "      <td>4.210346</td>\n",
              "      <td>0.448494</td>\n",
              "      <td>27.262139</td>\n",
              "      <td>5.966275</td>\n",
              "    </tr>\n",
              "    <tr>\n",
              "      <th>2</th>\n",
              "      <td>WM_39146</td>\n",
              "      <td>2019-09-14 14:03:20</td>\n",
              "      <td>95.484724</td>\n",
              "      <td>NaN</td>\n",
              "      <td>41.855473</td>\n",
              "      <td>12.652763</td>\n",
              "      <td>42.322098</td>\n",
              "      <td>42.878552</td>\n",
              "      <td>1657.169646</td>\n",
              "      <td>67.654469</td>\n",
              "      <td>16125.927107</td>\n",
              "      <td>36.116065</td>\n",
              "      <td>45.033197</td>\n",
              "      <td>227.850294</td>\n",
              "      <td>1666.049900</td>\n",
              "      <td>-42.931459</td>\n",
              "      <td>ABC</td>\n",
              "      <td>Medium</td>\n",
              "      <td>2.719475</td>\n",
              "      <td>0.302321</td>\n",
              "      <td>27.366127</td>\n",
              "      <td>2.874342</td>\n",
              "    </tr>\n",
              "    <tr>\n",
              "      <th>3</th>\n",
              "      <td>WM_6757</td>\n",
              "      <td>2018-12-25 15:33:20</td>\n",
              "      <td>238.819424</td>\n",
              "      <td>-99.000000</td>\n",
              "      <td>45.443914</td>\n",
              "      <td>15.115323</td>\n",
              "      <td>44.759643</td>\n",
              "      <td>47.282101</td>\n",
              "      <td>2888.134079</td>\n",
              "      <td>95.389974</td>\n",
              "      <td>18689.732336</td>\n",
              "      <td>46.020045</td>\n",
              "      <td>44.827154</td>\n",
              "      <td>492.081520</td>\n",
              "      <td>1964.502895</td>\n",
              "      <td>42.744596</td>\n",
              "      <td>ABC</td>\n",
              "      <td>NaN</td>\n",
              "      <td>4.857385</td>\n",
              "      <td>0.367140</td>\n",
              "      <td>24.287767</td>\n",
              "      <td>14.851089</td>\n",
              "    </tr>\n",
              "    <tr>\n",
              "      <th>4</th>\n",
              "      <td>WM_21521</td>\n",
              "      <td>2019-05-04 03:13:20</td>\n",
              "      <td>10.722890</td>\n",
              "      <td>NaN</td>\n",
              "      <td>41.981183</td>\n",
              "      <td>1.715696</td>\n",
              "      <td>-17.616459</td>\n",
              "      <td>43.469852</td>\n",
              "      <td>781.695419</td>\n",
              "      <td>37.423065</td>\n",
              "      <td>114468.169007</td>\n",
              "      <td>34.572941</td>\n",
              "      <td>-99.000000</td>\n",
              "      <td>259.274601</td>\n",
              "      <td>1177.516152</td>\n",
              "      <td>13.387289</td>\n",
              "      <td>AAA</td>\n",
              "      <td>Medium</td>\n",
              "      <td>NaN</td>\n",
              "      <td>0.453374</td>\n",
              "      <td>27.971650</td>\n",
              "      <td>3.519074</td>\n",
              "    </tr>\n",
              "  </tbody>\n",
              "</table>\n",
              "</div>"
            ],
            "text/plain": [
              "  tracking_id  ... windmill_generated_power(kW/h)\n",
              "0    WM_33725  ...                       6.766521\n",
              "1      WM_698  ...                       5.966275\n",
              "2    WM_39146  ...                       2.874342\n",
              "3     WM_6757  ...                      14.851089\n",
              "4    WM_21521  ...                       3.519074\n",
              "\n",
              "[5 rows x 22 columns]"
            ]
          },
          "metadata": {
            "tags": []
          },
          "execution_count": 7
        }
      ]
    },
    {
      "cell_type": "markdown",
      "metadata": {
        "id": "O9sGaHBZXYrX"
      },
      "source": [
        "### Inspecting the data"
      ]
    },
    {
      "cell_type": "code",
      "metadata": {
        "colab": {
          "base_uri": "https://localhost:8080/",
          "height": 614
        },
        "id": "vYMAmAqEXIak",
        "outputId": "08455fc1-2151-4eff-c232-5fc29fb0432d"
      },
      "source": [
        "data.describe().transpose()"
      ],
      "execution_count": 8,
      "outputs": [
        {
          "output_type": "execute_result",
          "data": {
            "text/html": [
              "<div>\n",
              "<style scoped>\n",
              "    .dataframe tbody tr th:only-of-type {\n",
              "        vertical-align: middle;\n",
              "    }\n",
              "\n",
              "    .dataframe tbody tr th {\n",
              "        vertical-align: top;\n",
              "    }\n",
              "\n",
              "    .dataframe thead th {\n",
              "        text-align: right;\n",
              "    }\n",
              "</style>\n",
              "<table border=\"1\" class=\"dataframe\">\n",
              "  <thead>\n",
              "    <tr style=\"text-align: right;\">\n",
              "      <th></th>\n",
              "      <th>count</th>\n",
              "      <th>mean</th>\n",
              "      <th>std</th>\n",
              "      <th>min</th>\n",
              "      <th>25%</th>\n",
              "      <th>50%</th>\n",
              "      <th>75%</th>\n",
              "      <th>max</th>\n",
              "    </tr>\n",
              "  </thead>\n",
              "  <tbody>\n",
              "    <tr>\n",
              "      <th>wind_speed(m/s)</th>\n",
              "      <td>27927.0</td>\n",
              "      <td>69.037071</td>\n",
              "      <td>76.275645</td>\n",
              "      <td>-4.962110e+02</td>\n",
              "      <td>20.883502</td>\n",
              "      <td>93.302129</td>\n",
              "      <td>95.268058</td>\n",
              "      <td>6.014557e+02</td>\n",
              "    </tr>\n",
              "    <tr>\n",
              "      <th>atmospheric_temperature(°C)</th>\n",
              "      <td>24750.0</td>\n",
              "      <td>0.383727</td>\n",
              "      <td>44.278534</td>\n",
              "      <td>-9.900000e+01</td>\n",
              "      <td>7.948900</td>\n",
              "      <td>16.102410</td>\n",
              "      <td>23.687285</td>\n",
              "      <td>8.021744e+01</td>\n",
              "    </tr>\n",
              "    <tr>\n",
              "      <th>shaft_temperature(°C)</th>\n",
              "      <td>28198.0</td>\n",
              "      <td>40.085387</td>\n",
              "      <td>27.204430</td>\n",
              "      <td>-9.900000e+01</td>\n",
              "      <td>41.633238</td>\n",
              "      <td>43.686082</td>\n",
              "      <td>45.673685</td>\n",
              "      <td>1.698205e+02</td>\n",
              "    </tr>\n",
              "    <tr>\n",
              "      <th>blades_angle(°)</th>\n",
              "      <td>27984.0</td>\n",
              "      <td>-9.654038</td>\n",
              "      <td>47.918161</td>\n",
              "      <td>-1.462595e+02</td>\n",
              "      <td>-1.197652</td>\n",
              "      <td>-0.495608</td>\n",
              "      <td>5.495030</td>\n",
              "      <td>1.659321e+02</td>\n",
              "    </tr>\n",
              "    <tr>\n",
              "      <th>gearbox_temperature(°C)</th>\n",
              "      <td>28199.0</td>\n",
              "      <td>41.027755</td>\n",
              "      <td>43.663605</td>\n",
              "      <td>-2.449741e+02</td>\n",
              "      <td>40.557952</td>\n",
              "      <td>43.221735</td>\n",
              "      <td>45.879425</td>\n",
              "      <td>9.990000e+02</td>\n",
              "    </tr>\n",
              "    <tr>\n",
              "      <th>engine_temperature(°C)</th>\n",
              "      <td>28188.0</td>\n",
              "      <td>42.614239</td>\n",
              "      <td>6.124546</td>\n",
              "      <td>3.167151e+00</td>\n",
              "      <td>41.911365</td>\n",
              "      <td>43.525297</td>\n",
              "      <td>45.174246</td>\n",
              "      <td>5.000000e+01</td>\n",
              "    </tr>\n",
              "    <tr>\n",
              "      <th>motor_torque(N-m)</th>\n",
              "      <td>28176.0</td>\n",
              "      <td>1710.819803</td>\n",
              "      <td>827.205537</td>\n",
              "      <td>5.000000e+02</td>\n",
              "      <td>870.340239</td>\n",
              "      <td>2031.849540</td>\n",
              "      <td>2462.585729</td>\n",
              "      <td>3.000000e+03</td>\n",
              "    </tr>\n",
              "    <tr>\n",
              "      <th>generator_temperature(°C)</th>\n",
              "      <td>28188.0</td>\n",
              "      <td>65.027857</td>\n",
              "      <td>19.816499</td>\n",
              "      <td>3.389378e+01</td>\n",
              "      <td>41.198509</td>\n",
              "      <td>70.729533</td>\n",
              "      <td>78.945849</td>\n",
              "      <td>1.000000e+02</td>\n",
              "    </tr>\n",
              "    <tr>\n",
              "      <th>atmospheric_pressure(Pascal)</th>\n",
              "      <td>25493.0</td>\n",
              "      <td>53185.064883</td>\n",
              "      <td>187503.615642</td>\n",
              "      <td>-1.188624e+06</td>\n",
              "      <td>16794.921490</td>\n",
              "      <td>18191.125867</td>\n",
              "      <td>118113.289822</td>\n",
              "      <td>1.272552e+06</td>\n",
              "    </tr>\n",
              "    <tr>\n",
              "      <th>area_temperature(°C)</th>\n",
              "      <td>28200.0</td>\n",
              "      <td>32.735091</td>\n",
              "      <td>7.703391</td>\n",
              "      <td>-3.000000e+01</td>\n",
              "      <td>27.311644</td>\n",
              "      <td>32.605195</td>\n",
              "      <td>38.232387</td>\n",
              "      <td>5.500000e+01</td>\n",
              "    </tr>\n",
              "    <tr>\n",
              "      <th>windmill_body_temperature(°C)</th>\n",
              "      <td>25837.0</td>\n",
              "      <td>20.799761</td>\n",
              "      <td>54.356431</td>\n",
              "      <td>-9.990000e+02</td>\n",
              "      <td>40.448386</td>\n",
              "      <td>42.786832</td>\n",
              "      <td>44.494543</td>\n",
              "      <td>3.230000e+02</td>\n",
              "    </tr>\n",
              "    <tr>\n",
              "      <th>wind_direction(°)</th>\n",
              "      <td>23097.0</td>\n",
              "      <td>306.888883</td>\n",
              "      <td>134.055900</td>\n",
              "      <td>0.000000e+00</td>\n",
              "      <td>238.627752</td>\n",
              "      <td>271.427656</td>\n",
              "      <td>404.153517</td>\n",
              "      <td>5.699665e+02</td>\n",
              "    </tr>\n",
              "    <tr>\n",
              "      <th>resistance(ohm)</th>\n",
              "      <td>28199.0</td>\n",
              "      <td>1575.560011</td>\n",
              "      <td>483.326394</td>\n",
              "      <td>-1.005223e+03</td>\n",
              "      <td>1268.134043</td>\n",
              "      <td>1678.238404</td>\n",
              "      <td>1829.054007</td>\n",
              "      <td>4.693482e+03</td>\n",
              "    </tr>\n",
              "    <tr>\n",
              "      <th>rotor_torque(N-m)</th>\n",
              "      <td>27628.0</td>\n",
              "      <td>25.849894</td>\n",
              "      <td>32.423943</td>\n",
              "      <td>-1.367322e+02</td>\n",
              "      <td>13.722808</td>\n",
              "      <td>32.977192</td>\n",
              "      <td>41.550520</td>\n",
              "      <td>2.368833e+02</td>\n",
              "    </tr>\n",
              "    <tr>\n",
              "      <th>blade_length(m)</th>\n",
              "      <td>23107.0</td>\n",
              "      <td>2.254034</td>\n",
              "      <td>11.275602</td>\n",
              "      <td>-9.900000e+01</td>\n",
              "      <td>2.544859</td>\n",
              "      <td>3.453333</td>\n",
              "      <td>4.357862</td>\n",
              "      <td>1.820980e+01</td>\n",
              "    </tr>\n",
              "    <tr>\n",
              "      <th>blade_breadth(m)</th>\n",
              "      <td>28200.0</td>\n",
              "      <td>0.397249</td>\n",
              "      <td>0.061158</td>\n",
              "      <td>2.001110e-01</td>\n",
              "      <td>0.347445</td>\n",
              "      <td>0.398591</td>\n",
              "      <td>0.449354</td>\n",
              "      <td>4.999753e-01</td>\n",
              "    </tr>\n",
              "    <tr>\n",
              "      <th>windmill_height(m)</th>\n",
              "      <td>27657.0</td>\n",
              "      <td>25.887052</td>\n",
              "      <td>7.773609</td>\n",
              "      <td>-3.029525e+01</td>\n",
              "      <td>24.447658</td>\n",
              "      <td>25.957739</td>\n",
              "      <td>27.477854</td>\n",
              "      <td>7.835134e+01</td>\n",
              "    </tr>\n",
              "    <tr>\n",
              "      <th>windmill_generated_power(kW/h)</th>\n",
              "      <td>27993.0</td>\n",
              "      <td>6.130529</td>\n",
              "      <td>2.697520</td>\n",
              "      <td>9.623049e-01</td>\n",
              "      <td>4.059505</td>\n",
              "      <td>5.764710</td>\n",
              "      <td>7.947195</td>\n",
              "      <td>2.017536e+01</td>\n",
              "    </tr>\n",
              "  </tbody>\n",
              "</table>\n",
              "</div>"
            ],
            "text/plain": [
              "                                  count  ...           max\n",
              "wind_speed(m/s)                 27927.0  ...  6.014557e+02\n",
              "atmospheric_temperature(°C)     24750.0  ...  8.021744e+01\n",
              "shaft_temperature(°C)           28198.0  ...  1.698205e+02\n",
              "blades_angle(°)                 27984.0  ...  1.659321e+02\n",
              "gearbox_temperature(°C)         28199.0  ...  9.990000e+02\n",
              "engine_temperature(°C)          28188.0  ...  5.000000e+01\n",
              "motor_torque(N-m)               28176.0  ...  3.000000e+03\n",
              "generator_temperature(°C)       28188.0  ...  1.000000e+02\n",
              "atmospheric_pressure(Pascal)    25493.0  ...  1.272552e+06\n",
              "area_temperature(°C)            28200.0  ...  5.500000e+01\n",
              "windmill_body_temperature(°C)   25837.0  ...  3.230000e+02\n",
              "wind_direction(°)               23097.0  ...  5.699665e+02\n",
              "resistance(ohm)                 28199.0  ...  4.693482e+03\n",
              "rotor_torque(N-m)               27628.0  ...  2.368833e+02\n",
              "blade_length(m)                 23107.0  ...  1.820980e+01\n",
              "blade_breadth(m)                28200.0  ...  4.999753e-01\n",
              "windmill_height(m)              27657.0  ...  7.835134e+01\n",
              "windmill_generated_power(kW/h)  27993.0  ...  2.017536e+01\n",
              "\n",
              "[18 rows x 8 columns]"
            ]
          },
          "metadata": {
            "tags": []
          },
          "execution_count": 8
        }
      ]
    },
    {
      "cell_type": "code",
      "metadata": {
        "colab": {
          "base_uri": "https://localhost:8080/"
        },
        "id": "zxJgXM76xu1S",
        "outputId": "a2d3758b-15e8-4149-ad27-74b33be343fd"
      },
      "source": [
        "data.dtypes"
      ],
      "execution_count": 9,
      "outputs": [
        {
          "output_type": "execute_result",
          "data": {
            "text/plain": [
              "tracking_id                        object\n",
              "datetime                           object\n",
              "wind_speed(m/s)                   float64\n",
              "atmospheric_temperature(°C)       float64\n",
              "shaft_temperature(°C)             float64\n",
              "blades_angle(°)                   float64\n",
              "gearbox_temperature(°C)           float64\n",
              "engine_temperature(°C)            float64\n",
              "motor_torque(N-m)                 float64\n",
              "generator_temperature(°C)         float64\n",
              "atmospheric_pressure(Pascal)      float64\n",
              "area_temperature(°C)              float64\n",
              "windmill_body_temperature(°C)     float64\n",
              "wind_direction(°)                 float64\n",
              "resistance(ohm)                   float64\n",
              "rotor_torque(N-m)                 float64\n",
              "turbine_status                     object\n",
              "cloud_level                        object\n",
              "blade_length(m)                   float64\n",
              "blade_breadth(m)                  float64\n",
              "windmill_height(m)                float64\n",
              "windmill_generated_power(kW/h)    float64\n",
              "dtype: object"
            ]
          },
          "metadata": {
            "tags": []
          },
          "execution_count": 9
        }
      ]
    },
    {
      "cell_type": "code",
      "metadata": {
        "id": "ah3TyqTzXP7z",
        "colab": {
          "base_uri": "https://localhost:8080/"
        },
        "outputId": "47564314-b5b5-4f75-a3ba-62bbca8ae3b3"
      },
      "source": [
        "data.isna().sum()"
      ],
      "execution_count": 10,
      "outputs": [
        {
          "output_type": "execute_result",
          "data": {
            "text/plain": [
              "tracking_id                          0\n",
              "datetime                             0\n",
              "wind_speed(m/s)                    273\n",
              "atmospheric_temperature(°C)       3450\n",
              "shaft_temperature(°C)                2\n",
              "blades_angle(°)                    216\n",
              "gearbox_temperature(°C)              1\n",
              "engine_temperature(°C)              12\n",
              "motor_torque(N-m)                   24\n",
              "generator_temperature(°C)           12\n",
              "atmospheric_pressure(Pascal)      2707\n",
              "area_temperature(°C)                 0\n",
              "windmill_body_temperature(°C)     2363\n",
              "wind_direction(°)                 5103\n",
              "resistance(ohm)                      1\n",
              "rotor_torque(N-m)                  572\n",
              "turbine_status                    1759\n",
              "cloud_level                        276\n",
              "blade_length(m)                   5093\n",
              "blade_breadth(m)                     0\n",
              "windmill_height(m)                 543\n",
              "windmill_generated_power(kW/h)     207\n",
              "dtype: int64"
            ]
          },
          "metadata": {
            "tags": []
          },
          "execution_count": 10
        }
      ]
    },
    {
      "cell_type": "code",
      "metadata": {
        "colab": {
          "base_uri": "https://localhost:8080/"
        },
        "id": "H9DF68KxurA3",
        "outputId": "a5389b5e-d318-4878-d258-ed6a04b46005"
      },
      "source": [
        "data.nunique(axis=0)"
      ],
      "execution_count": 11,
      "outputs": [
        {
          "output_type": "execute_result",
          "data": {
            "text/plain": [
              "tracking_id                       28200\n",
              "datetime                          28200\n",
              "wind_speed(m/s)                   27727\n",
              "atmospheric_temperature(°C)       20809\n",
              "shaft_temperature(°C)             27625\n",
              "blades_angle(°)                   22830\n",
              "gearbox_temperature(°C)           27911\n",
              "engine_temperature(°C)            28188\n",
              "motor_torque(N-m)                 27660\n",
              "generator_temperature(°C)         28187\n",
              "atmospheric_pressure(Pascal)      25492\n",
              "area_temperature(°C)              28170\n",
              "windmill_body_temperature(°C)     21893\n",
              "wind_direction(°)                 22984\n",
              "resistance(ohm)                   27365\n",
              "rotor_torque(N-m)                 25945\n",
              "turbine_status                       14\n",
              "cloud_level                           3\n",
              "blade_length(m)                   22833\n",
              "blade_breadth(m)                  28200\n",
              "windmill_height(m)                27657\n",
              "windmill_generated_power(kW/h)    27988\n",
              "dtype: int64"
            ]
          },
          "metadata": {
            "tags": []
          },
          "execution_count": 11
        }
      ]
    },
    {
      "cell_type": "code",
      "metadata": {
        "colab": {
          "base_uri": "https://localhost:8080/",
          "height": 652
        },
        "id": "W1RxosudysPm",
        "outputId": "3b0a4734-125a-4bfb-bdba-89de65e4bf2f"
      },
      "source": [
        "data.corr()"
      ],
      "execution_count": 12,
      "outputs": [
        {
          "output_type": "execute_result",
          "data": {
            "text/html": [
              "<div>\n",
              "<style scoped>\n",
              "    .dataframe tbody tr th:only-of-type {\n",
              "        vertical-align: middle;\n",
              "    }\n",
              "\n",
              "    .dataframe tbody tr th {\n",
              "        vertical-align: top;\n",
              "    }\n",
              "\n",
              "    .dataframe thead th {\n",
              "        text-align: right;\n",
              "    }\n",
              "</style>\n",
              "<table border=\"1\" class=\"dataframe\">\n",
              "  <thead>\n",
              "    <tr style=\"text-align: right;\">\n",
              "      <th></th>\n",
              "      <th>wind_speed(m/s)</th>\n",
              "      <th>atmospheric_temperature(°C)</th>\n",
              "      <th>shaft_temperature(°C)</th>\n",
              "      <th>blades_angle(°)</th>\n",
              "      <th>gearbox_temperature(°C)</th>\n",
              "      <th>engine_temperature(°C)</th>\n",
              "      <th>motor_torque(N-m)</th>\n",
              "      <th>generator_temperature(°C)</th>\n",
              "      <th>atmospheric_pressure(Pascal)</th>\n",
              "      <th>area_temperature(°C)</th>\n",
              "      <th>windmill_body_temperature(°C)</th>\n",
              "      <th>wind_direction(°)</th>\n",
              "      <th>resistance(ohm)</th>\n",
              "      <th>rotor_torque(N-m)</th>\n",
              "      <th>blade_length(m)</th>\n",
              "      <th>blade_breadth(m)</th>\n",
              "      <th>windmill_height(m)</th>\n",
              "      <th>windmill_generated_power(kW/h)</th>\n",
              "    </tr>\n",
              "  </thead>\n",
              "  <tbody>\n",
              "    <tr>\n",
              "      <th>wind_speed(m/s)</th>\n",
              "      <td>1.000000</td>\n",
              "      <td>0.052363</td>\n",
              "      <td>0.038500</td>\n",
              "      <td>-0.003593</td>\n",
              "      <td>0.016240</td>\n",
              "      <td>0.154659</td>\n",
              "      <td>0.377897</td>\n",
              "      <td>0.427604</td>\n",
              "      <td>-0.121641</td>\n",
              "      <td>0.198772</td>\n",
              "      <td>0.028000</td>\n",
              "      <td>0.045681</td>\n",
              "      <td>0.236767</td>\n",
              "      <td>0.152735</td>\n",
              "      <td>0.006996</td>\n",
              "      <td>0.003903</td>\n",
              "      <td>-0.011933</td>\n",
              "      <td>0.062754</td>\n",
              "    </tr>\n",
              "    <tr>\n",
              "      <th>atmospheric_temperature(°C)</th>\n",
              "      <td>0.052363</td>\n",
              "      <td>1.000000</td>\n",
              "      <td>0.011944</td>\n",
              "      <td>0.007429</td>\n",
              "      <td>0.005955</td>\n",
              "      <td>0.050748</td>\n",
              "      <td>0.095394</td>\n",
              "      <td>0.117335</td>\n",
              "      <td>-0.023382</td>\n",
              "      <td>0.073553</td>\n",
              "      <td>0.008472</td>\n",
              "      <td>0.018082</td>\n",
              "      <td>0.061556</td>\n",
              "      <td>0.044131</td>\n",
              "      <td>0.000567</td>\n",
              "      <td>0.003729</td>\n",
              "      <td>0.001270</td>\n",
              "      <td>-0.001005</td>\n",
              "    </tr>\n",
              "    <tr>\n",
              "      <th>shaft_temperature(°C)</th>\n",
              "      <td>0.038500</td>\n",
              "      <td>0.011944</td>\n",
              "      <td>1.000000</td>\n",
              "      <td>-0.009692</td>\n",
              "      <td>0.029967</td>\n",
              "      <td>0.204034</td>\n",
              "      <td>0.071366</td>\n",
              "      <td>0.074695</td>\n",
              "      <td>-0.018744</td>\n",
              "      <td>0.087570</td>\n",
              "      <td>0.018121</td>\n",
              "      <td>0.020066</td>\n",
              "      <td>0.032219</td>\n",
              "      <td>0.027989</td>\n",
              "      <td>0.000145</td>\n",
              "      <td>-0.006120</td>\n",
              "      <td>-0.008823</td>\n",
              "      <td>0.046552</td>\n",
              "    </tr>\n",
              "    <tr>\n",
              "      <th>blades_angle(°)</th>\n",
              "      <td>-0.003593</td>\n",
              "      <td>0.007429</td>\n",
              "      <td>-0.009692</td>\n",
              "      <td>1.000000</td>\n",
              "      <td>-0.025215</td>\n",
              "      <td>-0.064848</td>\n",
              "      <td>-0.138646</td>\n",
              "      <td>-0.044344</td>\n",
              "      <td>0.009316</td>\n",
              "      <td>-0.076014</td>\n",
              "      <td>0.003258</td>\n",
              "      <td>-0.027141</td>\n",
              "      <td>-0.033415</td>\n",
              "      <td>-0.048541</td>\n",
              "      <td>-0.009242</td>\n",
              "      <td>-0.061279</td>\n",
              "      <td>0.002717</td>\n",
              "      <td>-0.154808</td>\n",
              "    </tr>\n",
              "    <tr>\n",
              "      <th>gearbox_temperature(°C)</th>\n",
              "      <td>0.016240</td>\n",
              "      <td>0.005955</td>\n",
              "      <td>0.029967</td>\n",
              "      <td>-0.025215</td>\n",
              "      <td>1.000000</td>\n",
              "      <td>0.132756</td>\n",
              "      <td>0.045057</td>\n",
              "      <td>0.045125</td>\n",
              "      <td>-0.008589</td>\n",
              "      <td>0.058875</td>\n",
              "      <td>0.017249</td>\n",
              "      <td>0.029088</td>\n",
              "      <td>0.021098</td>\n",
              "      <td>0.016662</td>\n",
              "      <td>-0.002677</td>\n",
              "      <td>0.011283</td>\n",
              "      <td>0.003853</td>\n",
              "      <td>0.053192</td>\n",
              "    </tr>\n",
              "    <tr>\n",
              "      <th>engine_temperature(°C)</th>\n",
              "      <td>0.154659</td>\n",
              "      <td>0.050748</td>\n",
              "      <td>0.204034</td>\n",
              "      <td>-0.064848</td>\n",
              "      <td>0.132756</td>\n",
              "      <td>1.000000</td>\n",
              "      <td>0.352509</td>\n",
              "      <td>0.360616</td>\n",
              "      <td>-0.061328</td>\n",
              "      <td>0.342259</td>\n",
              "      <td>0.089745</td>\n",
              "      <td>0.137448</td>\n",
              "      <td>0.208365</td>\n",
              "      <td>0.138721</td>\n",
              "      <td>-0.007294</td>\n",
              "      <td>0.011560</td>\n",
              "      <td>-0.011952</td>\n",
              "      <td>0.272597</td>\n",
              "    </tr>\n",
              "    <tr>\n",
              "      <th>motor_torque(N-m)</th>\n",
              "      <td>0.377897</td>\n",
              "      <td>0.095394</td>\n",
              "      <td>0.071366</td>\n",
              "      <td>-0.138646</td>\n",
              "      <td>0.045057</td>\n",
              "      <td>0.352509</td>\n",
              "      <td>1.000000</td>\n",
              "      <td>0.934950</td>\n",
              "      <td>-0.215039</td>\n",
              "      <td>0.475887</td>\n",
              "      <td>0.028134</td>\n",
              "      <td>0.212269</td>\n",
              "      <td>0.513372</td>\n",
              "      <td>0.390499</td>\n",
              "      <td>0.005023</td>\n",
              "      <td>0.052973</td>\n",
              "      <td>0.001177</td>\n",
              "      <td>0.505553</td>\n",
              "    </tr>\n",
              "    <tr>\n",
              "      <th>generator_temperature(°C)</th>\n",
              "      <td>0.427604</td>\n",
              "      <td>0.117335</td>\n",
              "      <td>0.074695</td>\n",
              "      <td>-0.044344</td>\n",
              "      <td>0.045125</td>\n",
              "      <td>0.360616</td>\n",
              "      <td>0.934950</td>\n",
              "      <td>1.000000</td>\n",
              "      <td>-0.238989</td>\n",
              "      <td>0.517243</td>\n",
              "      <td>0.036341</td>\n",
              "      <td>0.212498</td>\n",
              "      <td>0.539554</td>\n",
              "      <td>0.371918</td>\n",
              "      <td>0.005362</td>\n",
              "      <td>0.017573</td>\n",
              "      <td>-0.000638</td>\n",
              "      <td>0.391820</td>\n",
              "    </tr>\n",
              "    <tr>\n",
              "      <th>atmospheric_pressure(Pascal)</th>\n",
              "      <td>-0.121641</td>\n",
              "      <td>-0.023382</td>\n",
              "      <td>-0.018744</td>\n",
              "      <td>0.009316</td>\n",
              "      <td>-0.008589</td>\n",
              "      <td>-0.061328</td>\n",
              "      <td>-0.215039</td>\n",
              "      <td>-0.238989</td>\n",
              "      <td>1.000000</td>\n",
              "      <td>-0.091428</td>\n",
              "      <td>-0.009015</td>\n",
              "      <td>-0.028435</td>\n",
              "      <td>-0.128475</td>\n",
              "      <td>-0.093835</td>\n",
              "      <td>0.005462</td>\n",
              "      <td>0.005022</td>\n",
              "      <td>0.002784</td>\n",
              "      <td>-0.013310</td>\n",
              "    </tr>\n",
              "    <tr>\n",
              "      <th>area_temperature(°C)</th>\n",
              "      <td>0.198772</td>\n",
              "      <td>0.073553</td>\n",
              "      <td>0.087570</td>\n",
              "      <td>-0.076014</td>\n",
              "      <td>0.058875</td>\n",
              "      <td>0.342259</td>\n",
              "      <td>0.475887</td>\n",
              "      <td>0.517243</td>\n",
              "      <td>-0.091428</td>\n",
              "      <td>1.000000</td>\n",
              "      <td>0.050754</td>\n",
              "      <td>0.200037</td>\n",
              "      <td>0.266673</td>\n",
              "      <td>0.187335</td>\n",
              "      <td>0.000074</td>\n",
              "      <td>0.022397</td>\n",
              "      <td>-0.005301</td>\n",
              "      <td>0.384564</td>\n",
              "    </tr>\n",
              "    <tr>\n",
              "      <th>windmill_body_temperature(°C)</th>\n",
              "      <td>0.028000</td>\n",
              "      <td>0.008472</td>\n",
              "      <td>0.018121</td>\n",
              "      <td>0.003258</td>\n",
              "      <td>0.017249</td>\n",
              "      <td>0.089745</td>\n",
              "      <td>0.028134</td>\n",
              "      <td>0.036341</td>\n",
              "      <td>-0.009015</td>\n",
              "      <td>0.050754</td>\n",
              "      <td>1.000000</td>\n",
              "      <td>0.010002</td>\n",
              "      <td>0.029043</td>\n",
              "      <td>0.014965</td>\n",
              "      <td>-0.003099</td>\n",
              "      <td>0.001454</td>\n",
              "      <td>-0.006488</td>\n",
              "      <td>0.003196</td>\n",
              "    </tr>\n",
              "    <tr>\n",
              "      <th>wind_direction(°)</th>\n",
              "      <td>0.045681</td>\n",
              "      <td>0.018082</td>\n",
              "      <td>0.020066</td>\n",
              "      <td>-0.027141</td>\n",
              "      <td>0.029088</td>\n",
              "      <td>0.137448</td>\n",
              "      <td>0.212269</td>\n",
              "      <td>0.212498</td>\n",
              "      <td>-0.028435</td>\n",
              "      <td>0.200037</td>\n",
              "      <td>0.010002</td>\n",
              "      <td>1.000000</td>\n",
              "      <td>0.109535</td>\n",
              "      <td>0.075874</td>\n",
              "      <td>0.002975</td>\n",
              "      <td>0.024206</td>\n",
              "      <td>0.006759</td>\n",
              "      <td>0.359647</td>\n",
              "    </tr>\n",
              "    <tr>\n",
              "      <th>resistance(ohm)</th>\n",
              "      <td>0.236767</td>\n",
              "      <td>0.061556</td>\n",
              "      <td>0.032219</td>\n",
              "      <td>-0.033415</td>\n",
              "      <td>0.021098</td>\n",
              "      <td>0.208365</td>\n",
              "      <td>0.513372</td>\n",
              "      <td>0.539554</td>\n",
              "      <td>-0.128475</td>\n",
              "      <td>0.266673</td>\n",
              "      <td>0.029043</td>\n",
              "      <td>0.109535</td>\n",
              "      <td>1.000000</td>\n",
              "      <td>0.200911</td>\n",
              "      <td>0.007099</td>\n",
              "      <td>0.005859</td>\n",
              "      <td>-0.000796</td>\n",
              "      <td>0.240045</td>\n",
              "    </tr>\n",
              "    <tr>\n",
              "      <th>rotor_torque(N-m)</th>\n",
              "      <td>0.152735</td>\n",
              "      <td>0.044131</td>\n",
              "      <td>0.027989</td>\n",
              "      <td>-0.048541</td>\n",
              "      <td>0.016662</td>\n",
              "      <td>0.138721</td>\n",
              "      <td>0.390499</td>\n",
              "      <td>0.371918</td>\n",
              "      <td>-0.093835</td>\n",
              "      <td>0.187335</td>\n",
              "      <td>0.014965</td>\n",
              "      <td>0.075874</td>\n",
              "      <td>0.200911</td>\n",
              "      <td>1.000000</td>\n",
              "      <td>0.001724</td>\n",
              "      <td>0.027248</td>\n",
              "      <td>0.010224</td>\n",
              "      <td>0.187476</td>\n",
              "    </tr>\n",
              "    <tr>\n",
              "      <th>blade_length(m)</th>\n",
              "      <td>0.006996</td>\n",
              "      <td>0.000567</td>\n",
              "      <td>0.000145</td>\n",
              "      <td>-0.009242</td>\n",
              "      <td>-0.002677</td>\n",
              "      <td>-0.007294</td>\n",
              "      <td>0.005023</td>\n",
              "      <td>0.005362</td>\n",
              "      <td>0.005462</td>\n",
              "      <td>0.000074</td>\n",
              "      <td>-0.003099</td>\n",
              "      <td>0.002975</td>\n",
              "      <td>0.007099</td>\n",
              "      <td>0.001724</td>\n",
              "      <td>1.000000</td>\n",
              "      <td>0.009102</td>\n",
              "      <td>0.014155</td>\n",
              "      <td>0.014294</td>\n",
              "    </tr>\n",
              "    <tr>\n",
              "      <th>blade_breadth(m)</th>\n",
              "      <td>0.003903</td>\n",
              "      <td>0.003729</td>\n",
              "      <td>-0.006120</td>\n",
              "      <td>-0.061279</td>\n",
              "      <td>0.011283</td>\n",
              "      <td>0.011560</td>\n",
              "      <td>0.052973</td>\n",
              "      <td>0.017573</td>\n",
              "      <td>0.005022</td>\n",
              "      <td>0.022397</td>\n",
              "      <td>0.001454</td>\n",
              "      <td>0.024206</td>\n",
              "      <td>0.005859</td>\n",
              "      <td>0.027248</td>\n",
              "      <td>0.009102</td>\n",
              "      <td>1.000000</td>\n",
              "      <td>0.017414</td>\n",
              "      <td>0.085886</td>\n",
              "    </tr>\n",
              "    <tr>\n",
              "      <th>windmill_height(m)</th>\n",
              "      <td>-0.011933</td>\n",
              "      <td>0.001270</td>\n",
              "      <td>-0.008823</td>\n",
              "      <td>0.002717</td>\n",
              "      <td>0.003853</td>\n",
              "      <td>-0.011952</td>\n",
              "      <td>0.001177</td>\n",
              "      <td>-0.000638</td>\n",
              "      <td>0.002784</td>\n",
              "      <td>-0.005301</td>\n",
              "      <td>-0.006488</td>\n",
              "      <td>0.006759</td>\n",
              "      <td>-0.000796</td>\n",
              "      <td>0.010224</td>\n",
              "      <td>0.014155</td>\n",
              "      <td>0.017414</td>\n",
              "      <td>1.000000</td>\n",
              "      <td>0.003909</td>\n",
              "    </tr>\n",
              "    <tr>\n",
              "      <th>windmill_generated_power(kW/h)</th>\n",
              "      <td>0.062754</td>\n",
              "      <td>-0.001005</td>\n",
              "      <td>0.046552</td>\n",
              "      <td>-0.154808</td>\n",
              "      <td>0.053192</td>\n",
              "      <td>0.272597</td>\n",
              "      <td>0.505553</td>\n",
              "      <td>0.391820</td>\n",
              "      <td>-0.013310</td>\n",
              "      <td>0.384564</td>\n",
              "      <td>0.003196</td>\n",
              "      <td>0.359647</td>\n",
              "      <td>0.240045</td>\n",
              "      <td>0.187476</td>\n",
              "      <td>0.014294</td>\n",
              "      <td>0.085886</td>\n",
              "      <td>0.003909</td>\n",
              "      <td>1.000000</td>\n",
              "    </tr>\n",
              "  </tbody>\n",
              "</table>\n",
              "</div>"
            ],
            "text/plain": [
              "                                wind_speed(m/s)  ...  windmill_generated_power(kW/h)\n",
              "wind_speed(m/s)                        1.000000  ...                        0.062754\n",
              "atmospheric_temperature(°C)            0.052363  ...                       -0.001005\n",
              "shaft_temperature(°C)                  0.038500  ...                        0.046552\n",
              "blades_angle(°)                       -0.003593  ...                       -0.154808\n",
              "gearbox_temperature(°C)                0.016240  ...                        0.053192\n",
              "engine_temperature(°C)                 0.154659  ...                        0.272597\n",
              "motor_torque(N-m)                      0.377897  ...                        0.505553\n",
              "generator_temperature(°C)              0.427604  ...                        0.391820\n",
              "atmospheric_pressure(Pascal)          -0.121641  ...                       -0.013310\n",
              "area_temperature(°C)                   0.198772  ...                        0.384564\n",
              "windmill_body_temperature(°C)          0.028000  ...                        0.003196\n",
              "wind_direction(°)                      0.045681  ...                        0.359647\n",
              "resistance(ohm)                        0.236767  ...                        0.240045\n",
              "rotor_torque(N-m)                      0.152735  ...                        0.187476\n",
              "blade_length(m)                        0.006996  ...                        0.014294\n",
              "blade_breadth(m)                       0.003903  ...                        0.085886\n",
              "windmill_height(m)                    -0.011933  ...                        0.003909\n",
              "windmill_generated_power(kW/h)         0.062754  ...                        1.000000\n",
              "\n",
              "[18 rows x 18 columns]"
            ]
          },
          "metadata": {
            "tags": []
          },
          "execution_count": 12
        }
      ]
    },
    {
      "cell_type": "code",
      "metadata": {
        "colab": {
          "base_uri": "https://localhost:8080/",
          "height": 1000
        },
        "id": "IkN-tGEXz6HB",
        "outputId": "09e4bbb0-79a8-4ba0-98af-e07da2e31212"
      },
      "source": [
        "data.hist(figsize=(24,20),bins = 15)\n",
        "plt.title(\"Features Distribution\")\n",
        "plt.show()"
      ],
      "execution_count": 13,
      "outputs": [
        {
          "output_type": "display_data",
          "data": {
            "image/png": "[encoded data removed]",
            "text/plain": [
              "<Figure size 1728x1440 with 20 Axes>"
            ]
          },
          "metadata": {
            "tags": [],
            "needs_background": "light"
          }
        }
      ]
    },
    {
      "cell_type": "markdown",
      "metadata": {
        "id": "-ixY52aJTn0a"
      },
      "source": [
        "### Cleaning the data and Splitting the data"
      ]
    },
    {
      "cell_type": "code",
      "metadata": {
        "id": "Jk2dY9GkyFof"
      },
      "source": [
        "numerical_feaures = ['wind_speed(m/s)', 'atmospheric_temperature(°C)', 'shaft_temperature(°C)', 'blades_angle(°)',\n",
        "                     'gearbox_temperature(°C)', 'engine_temperature(°C)', 'motor_torque(N-m)', 'generator_temperature(°C)',\n",
        "                     'atmospheric_pressure(Pascal)', 'area_temperature(°C)', 'windmill_body_temperature(°C)', 'wind_direction(°)',\n",
        "                     'resistance(ohm)', 'rotor_torque(N-m)', 'blade_length(m)', 'blade_breadth(m)', 'windmill_height(m)']"
      ],
      "execution_count": 14,
      "outputs": []
    },
    {
      "cell_type": "code",
      "metadata": {
        "id": "YtrJ-Haryb-o"
      },
      "source": [
        "categorical_features = ['turbine_status', 'cloud_level']"
      ],
      "execution_count": 15,
      "outputs": []
    },
    {
      "cell_type": "code",
      "metadata": {
        "id": "wQXjMM33zKNJ"
      },
      "source": [
        "turbine_status_remapper = {'BA':14, 'A2':1, 'ABC':2, 'AAA':3,\n",
        "                           'BD':4, 'AC':5, 'BB':6, 'BCB':7,\n",
        "                           'B':8, 'AB':9, 'B2':10, 'BBB':11,\n",
        "                           'A':12, 'D':13}\n",
        "cloud_level_remapper = {'Medium':1, 'Low':2, 'Extremely Low':3}"
      ],
      "execution_count": 16,
      "outputs": []
    },
    {
      "cell_type": "markdown",
      "metadata": {
        "id": "_Jr3C_X_0bck"
      },
      "source": [
        "```tracking_id``` is not important, and  ```datetime``` does not seem important for now. So, I will drop this columns."
      ]
    },
    {
      "cell_type": "code",
      "metadata": {
        "id": "HMn3pKtM08eH"
      },
      "source": [
        "data = data.drop(['tracking_id', 'datetime'], axis=1)"
      ],
      "execution_count": 17,
      "outputs": []
    },
    {
      "cell_type": "markdown",
      "metadata": {
        "id": "3o4u5GoEza9e"
      },
      "source": [
        "**Fill numerical features with mean values and categorical features with most frequent value**"
      ]
    },
    {
      "cell_type": "code",
      "metadata": {
        "id": "NzIPeA-51Mo_"
      },
      "source": [
        "for feature in numerical_feaures:\n",
        "  data[feature].fillna(data[feature].mean(), inplace=True)"
      ],
      "execution_count": 18,
      "outputs": []
    },
    {
      "cell_type": "code",
      "metadata": {
        "id": "xfUmmh8D7cIT"
      },
      "source": [
        "data['windmill_generated_power(kW/h)'].fillna(data['windmill_generated_power(kW/h)'].mean(), inplace=True)"
      ],
      "execution_count": 19,
      "outputs": []
    },
    {
      "cell_type": "code",
      "metadata": {
        "id": "fe2deSFO424L"
      },
      "source": [
        "data = data.apply(lambda x: x.fillna(x.value_counts().index[0]))"
      ],
      "execution_count": 20,
      "outputs": []
    },
    {
      "cell_type": "code",
      "metadata": {
        "id": "fzOYMGcn2MEF"
      },
      "source": [
        "data['turbine_status'] = data['turbine_status'].map(turbine_status_remapper)\n",
        "data['cloud_level'] = data['cloud_level'].map(cloud_level_remapper)"
      ],
      "execution_count": 21,
      "outputs": []
    },
    {
      "cell_type": "code",
      "metadata": {
        "colab": {
          "base_uri": "https://localhost:8080/",
          "height": 401
        },
        "id": "VJV4jsIc1p50",
        "outputId": "033dd1e1-ec84-4590-d73c-433797418dd5"
      },
      "source": [
        "data.head(10)"
      ],
      "execution_count": 22,
      "outputs": [
        {
          "output_type": "execute_result",
          "data": {
            "text/html": [
              "<div>\n",
              "<style scoped>\n",
              "    .dataframe tbody tr th:only-of-type {\n",
              "        vertical-align: middle;\n",
              "    }\n",
              "\n",
              "    .dataframe tbody tr th {\n",
              "        vertical-align: top;\n",
              "    }\n",
              "\n",
              "    .dataframe thead th {\n",
              "        text-align: right;\n",
              "    }\n",
              "</style>\n",
              "<table border=\"1\" class=\"dataframe\">\n",
              "  <thead>\n",
              "    <tr style=\"text-align: right;\">\n",
              "      <th></th>\n",
              "      <th>wind_speed(m/s)</th>\n",
              "      <th>atmospheric_temperature(°C)</th>\n",
              "      <th>shaft_temperature(°C)</th>\n",
              "      <th>blades_angle(°)</th>\n",
              "      <th>gearbox_temperature(°C)</th>\n",
              "      <th>engine_temperature(°C)</th>\n",
              "      <th>motor_torque(N-m)</th>\n",
              "      <th>generator_temperature(°C)</th>\n",
              "      <th>atmospheric_pressure(Pascal)</th>\n",
              "      <th>area_temperature(°C)</th>\n",
              "      <th>windmill_body_temperature(°C)</th>\n",
              "      <th>wind_direction(°)</th>\n",
              "      <th>resistance(ohm)</th>\n",
              "      <th>rotor_torque(N-m)</th>\n",
              "      <th>turbine_status</th>\n",
              "      <th>cloud_level</th>\n",
              "      <th>blade_length(m)</th>\n",
              "      <th>blade_breadth(m)</th>\n",
              "      <th>windmill_height(m)</th>\n",
              "      <th>windmill_generated_power(kW/h)</th>\n",
              "    </tr>\n",
              "  </thead>\n",
              "  <tbody>\n",
              "    <tr>\n",
              "      <th>0</th>\n",
              "      <td>94.820023</td>\n",
              "      <td>-99.000000</td>\n",
              "      <td>41.723019</td>\n",
              "      <td>-0.903423</td>\n",
              "      <td>82.410573</td>\n",
              "      <td>42.523015</td>\n",
              "      <td>2563.124522</td>\n",
              "      <td>76.665560</td>\n",
              "      <td>103402.961872</td>\n",
              "      <td>26.897875</td>\n",
              "      <td>20.799761</td>\n",
              "      <td>239.836388</td>\n",
              "      <td>2730.310605</td>\n",
              "      <td>42.084666</td>\n",
              "      <td>14</td>\n",
              "      <td>1</td>\n",
              "      <td>2.217542</td>\n",
              "      <td>0.314065</td>\n",
              "      <td>24.281689</td>\n",
              "      <td>6.766521</td>\n",
              "    </tr>\n",
              "    <tr>\n",
              "      <th>1</th>\n",
              "      <td>241.832734</td>\n",
              "      <td>27.764785</td>\n",
              "      <td>-99.000000</td>\n",
              "      <td>-99.000000</td>\n",
              "      <td>44.104919</td>\n",
              "      <td>46.258870</td>\n",
              "      <td>2372.384119</td>\n",
              "      <td>78.129803</td>\n",
              "      <td>17030.904078</td>\n",
              "      <td>39.801469</td>\n",
              "      <td>20.799761</td>\n",
              "      <td>337.944723</td>\n",
              "      <td>1780.207200</td>\n",
              "      <td>107.888643</td>\n",
              "      <td>1</td>\n",
              "      <td>1</td>\n",
              "      <td>4.210346</td>\n",
              "      <td>0.448494</td>\n",
              "      <td>27.262139</td>\n",
              "      <td>5.966275</td>\n",
              "    </tr>\n",
              "    <tr>\n",
              "      <th>2</th>\n",
              "      <td>95.484724</td>\n",
              "      <td>0.383727</td>\n",
              "      <td>41.855473</td>\n",
              "      <td>12.652763</td>\n",
              "      <td>42.322098</td>\n",
              "      <td>42.878552</td>\n",
              "      <td>1657.169646</td>\n",
              "      <td>67.654469</td>\n",
              "      <td>16125.927107</td>\n",
              "      <td>36.116065</td>\n",
              "      <td>45.033197</td>\n",
              "      <td>227.850294</td>\n",
              "      <td>1666.049900</td>\n",
              "      <td>-42.931459</td>\n",
              "      <td>2</td>\n",
              "      <td>1</td>\n",
              "      <td>2.719475</td>\n",
              "      <td>0.302321</td>\n",
              "      <td>27.366127</td>\n",
              "      <td>2.874342</td>\n",
              "    </tr>\n",
              "    <tr>\n",
              "      <th>3</th>\n",
              "      <td>238.819424</td>\n",
              "      <td>-99.000000</td>\n",
              "      <td>45.443914</td>\n",
              "      <td>15.115323</td>\n",
              "      <td>44.759643</td>\n",
              "      <td>47.282101</td>\n",
              "      <td>2888.134079</td>\n",
              "      <td>95.389974</td>\n",
              "      <td>18689.732336</td>\n",
              "      <td>46.020045</td>\n",
              "      <td>44.827154</td>\n",
              "      <td>492.081520</td>\n",
              "      <td>1964.502895</td>\n",
              "      <td>42.744596</td>\n",
              "      <td>2</td>\n",
              "      <td>2</td>\n",
              "      <td>4.857385</td>\n",
              "      <td>0.367140</td>\n",
              "      <td>24.287767</td>\n",
              "      <td>14.851089</td>\n",
              "    </tr>\n",
              "    <tr>\n",
              "      <th>4</th>\n",
              "      <td>10.722890</td>\n",
              "      <td>0.383727</td>\n",
              "      <td>41.981183</td>\n",
              "      <td>1.715696</td>\n",
              "      <td>-17.616459</td>\n",
              "      <td>43.469852</td>\n",
              "      <td>781.695419</td>\n",
              "      <td>37.423065</td>\n",
              "      <td>114468.169007</td>\n",
              "      <td>34.572941</td>\n",
              "      <td>-99.000000</td>\n",
              "      <td>259.274601</td>\n",
              "      <td>1177.516152</td>\n",
              "      <td>13.387289</td>\n",
              "      <td>3</td>\n",
              "      <td>1</td>\n",
              "      <td>2.254034</td>\n",
              "      <td>0.453374</td>\n",
              "      <td>27.971650</td>\n",
              "      <td>3.519074</td>\n",
              "    </tr>\n",
              "    <tr>\n",
              "      <th>5</th>\n",
              "      <td>93.769973</td>\n",
              "      <td>30.326226</td>\n",
              "      <td>17.970619</td>\n",
              "      <td>-99.000000</td>\n",
              "      <td>43.816430</td>\n",
              "      <td>40.815795</td>\n",
              "      <td>2119.351653</td>\n",
              "      <td>72.345126</td>\n",
              "      <td>53185.064883</td>\n",
              "      <td>35.315292</td>\n",
              "      <td>101.378184</td>\n",
              "      <td>306.888883</td>\n",
              "      <td>1715.244121</td>\n",
              "      <td>97.746463</td>\n",
              "      <td>2</td>\n",
              "      <td>2</td>\n",
              "      <td>2.504098</td>\n",
              "      <td>0.395642</td>\n",
              "      <td>24.673292</td>\n",
              "      <td>4.945780</td>\n",
              "    </tr>\n",
              "    <tr>\n",
              "      <th>6</th>\n",
              "      <td>16.026249</td>\n",
              "      <td>-99.000000</td>\n",
              "      <td>44.072819</td>\n",
              "      <td>-0.196845</td>\n",
              "      <td>41.680583</td>\n",
              "      <td>43.384904</td>\n",
              "      <td>778.109985</td>\n",
              "      <td>40.284018</td>\n",
              "      <td>121813.383158</td>\n",
              "      <td>33.849389</td>\n",
              "      <td>43.008746</td>\n",
              "      <td>528.003985</td>\n",
              "      <td>1222.931270</td>\n",
              "      <td>11.805113</td>\n",
              "      <td>4</td>\n",
              "      <td>2</td>\n",
              "      <td>2.917922</td>\n",
              "      <td>0.447341</td>\n",
              "      <td>33.593511</td>\n",
              "      <td>5.089173</td>\n",
              "    </tr>\n",
              "    <tr>\n",
              "      <th>7</th>\n",
              "      <td>48.737826</td>\n",
              "      <td>12.716815</td>\n",
              "      <td>43.217778</td>\n",
              "      <td>-99.000000</td>\n",
              "      <td>-48.405089</td>\n",
              "      <td>44.125843</td>\n",
              "      <td>980.988531</td>\n",
              "      <td>43.691867</td>\n",
              "      <td>120923.024893</td>\n",
              "      <td>30.553159</td>\n",
              "      <td>-99.000000</td>\n",
              "      <td>306.888883</td>\n",
              "      <td>1177.637341</td>\n",
              "      <td>18.384873</td>\n",
              "      <td>14</td>\n",
              "      <td>2</td>\n",
              "      <td>2.938810</td>\n",
              "      <td>0.354881</td>\n",
              "      <td>29.944821</td>\n",
              "      <td>8.536889</td>\n",
              "    </tr>\n",
              "    <tr>\n",
              "      <th>8</th>\n",
              "      <td>47.081729</td>\n",
              "      <td>-99.000000</td>\n",
              "      <td>-33.607048</td>\n",
              "      <td>-99.000000</td>\n",
              "      <td>43.055427</td>\n",
              "      <td>45.253628</td>\n",
              "      <td>957.580151</td>\n",
              "      <td>41.609787</td>\n",
              "      <td>119628.964709</td>\n",
              "      <td>26.168073</td>\n",
              "      <td>43.216062</td>\n",
              "      <td>281.368625</td>\n",
              "      <td>-99.000000</td>\n",
              "      <td>19.486763</td>\n",
              "      <td>2</td>\n",
              "      <td>2</td>\n",
              "      <td>1.651438</td>\n",
              "      <td>0.301550</td>\n",
              "      <td>46.733509</td>\n",
              "      <td>8.739166</td>\n",
              "    </tr>\n",
              "    <tr>\n",
              "      <th>9</th>\n",
              "      <td>283.789329</td>\n",
              "      <td>18.887932</td>\n",
              "      <td>41.691469</td>\n",
              "      <td>52.337026</td>\n",
              "      <td>-62.724362</td>\n",
              "      <td>41.881256</td>\n",
              "      <td>1042.086135</td>\n",
              "      <td>65.280225</td>\n",
              "      <td>16160.281605</td>\n",
              "      <td>29.381862</td>\n",
              "      <td>-99.000000</td>\n",
              "      <td>352.268521</td>\n",
              "      <td>1662.076277</td>\n",
              "      <td>20.100683</td>\n",
              "      <td>5</td>\n",
              "      <td>3</td>\n",
              "      <td>1.060817</td>\n",
              "      <td>0.201699</td>\n",
              "      <td>24.324068</td>\n",
              "      <td>1.948810</td>\n",
              "    </tr>\n",
              "  </tbody>\n",
              "</table>\n",
              "</div>"
            ],
            "text/plain": [
              "   wind_speed(m/s)  ...  windmill_generated_power(kW/h)\n",
              "0        94.820023  ...                        6.766521\n",
              "1       241.832734  ...                        5.966275\n",
              "2        95.484724  ...                        2.874342\n",
              "3       238.819424  ...                       14.851089\n",
              "4        10.722890  ...                        3.519074\n",
              "5        93.769973  ...                        4.945780\n",
              "6        16.026249  ...                        5.089173\n",
              "7        48.737826  ...                        8.536889\n",
              "8        47.081729  ...                        8.739166\n",
              "9       283.789329  ...                        1.948810\n",
              "\n",
              "[10 rows x 20 columns]"
            ]
          },
          "metadata": {
            "tags": []
          },
          "execution_count": 22
        }
      ]
    },
    {
      "cell_type": "code",
      "metadata": {
        "colab": {
          "base_uri": "https://localhost:8080/"
        },
        "id": "Jk5VEmhO70lq",
        "outputId": "e3df4477-e986-49d8-dbb6-0b31c8d0d444"
      },
      "source": [
        "data.isna().sum()"
      ],
      "execution_count": 23,
      "outputs": [
        {
          "output_type": "execute_result",
          "data": {
            "text/plain": [
              "wind_speed(m/s)                   0\n",
              "atmospheric_temperature(°C)       0\n",
              "shaft_temperature(°C)             0\n",
              "blades_angle(°)                   0\n",
              "gearbox_temperature(°C)           0\n",
              "engine_temperature(°C)            0\n",
              "motor_torque(N-m)                 0\n",
              "generator_temperature(°C)         0\n",
              "atmospheric_pressure(Pascal)      0\n",
              "area_temperature(°C)              0\n",
              "windmill_body_temperature(°C)     0\n",
              "wind_direction(°)                 0\n",
              "resistance(ohm)                   0\n",
              "rotor_torque(N-m)                 0\n",
              "turbine_status                    0\n",
              "cloud_level                       0\n",
              "blade_length(m)                   0\n",
              "blade_breadth(m)                  0\n",
              "windmill_height(m)                0\n",
              "windmill_generated_power(kW/h)    0\n",
              "dtype: int64"
            ]
          },
          "metadata": {
            "tags": []
          },
          "execution_count": 23
        }
      ]
    },
    {
      "cell_type": "markdown",
      "metadata": {
        "id": "zIdemTcQ74s4"
      },
      "source": [
        "Now that we are free from missing values, we may procedd."
      ]
    },
    {
      "cell_type": "code",
      "metadata": {
        "id": "vIypGeXMX8Ns"
      },
      "source": [
        "X = data.iloc[:, :19]\n",
        "y = data.iloc[:, 19]"
      ],
      "execution_count": 24,
      "outputs": []
    },
    {
      "cell_type": "code",
      "metadata": {
        "colab": {
          "base_uri": "https://localhost:8080/"
        },
        "id": "E_A8Zt4la0_l",
        "outputId": "f527b939-ce34-49e1-ac9c-8cccdc78b705"
      },
      "source": [
        "X_train, X_test, y_train, y_test = train_test_split(X, y, test_size=0.2, random_state=42)\n",
        "len(X_train)"
      ],
      "execution_count": 25,
      "outputs": [
        {
          "output_type": "execute_result",
          "data": {
            "text/plain": [
              "22560"
            ]
          },
          "metadata": {
            "tags": []
          },
          "execution_count": 25
        }
      ]
    },
    {
      "cell_type": "code",
      "metadata": {
        "colab": {
          "base_uri": "https://localhost:8080/"
        },
        "id": "FjrUkZ6J1xbF",
        "outputId": "bfd66edf-1201-48ce-9ae2-0afbf4be2f14"
      },
      "source": [
        "print(X_train.loc[0])\n",
        "print(y_train[0])"
      ],
      "execution_count": 26,
      "outputs": [
        {
          "output_type": "stream",
          "text": [
            "wind_speed(m/s)                      94.820023\n",
            "atmospheric_temperature(°C)         -99.000000\n",
            "shaft_temperature(°C)                41.723019\n",
            "blades_angle(°)                      -0.903423\n",
            "gearbox_temperature(°C)              82.410573\n",
            "engine_temperature(°C)               42.523015\n",
            "motor_torque(N-m)                  2563.124522\n",
            "generator_temperature(°C)            76.665560\n",
            "atmospheric_pressure(Pascal)     103402.961872\n",
            "area_temperature(°C)                 26.897875\n",
            "windmill_body_temperature(°C)        20.799761\n",
            "wind_direction(°)                   239.836388\n",
            "resistance(ohm)                    2730.310605\n",
            "rotor_torque(N-m)                    42.084666\n",
            "turbine_status                       14.000000\n",
            "cloud_level                           1.000000\n",
            "blade_length(m)                       2.217542\n",
            "blade_breadth(m)                      0.314065\n",
            "windmill_height(m)                   24.281689\n",
            "Name: 0, dtype: float64\n",
            "6.766520694736843\n"
          ],
          "name": "stdout"
        }
      ]
    },
    {
      "cell_type": "markdown",
      "metadata": {
        "id": "KF6S9sqwbZ-g"
      },
      "source": [
        "### Normalization"
      ]
    },
    {
      "cell_type": "code",
      "metadata": {
        "colab": {
          "base_uri": "https://localhost:8080/"
        },
        "id": "ln_a2h_y977u",
        "outputId": "c89e91a8-f692-425e-d45a-d42c8d774f28"
      },
      "source": [
        "ln = LogScaler()\n",
        "X_train_norm = ln.fit_transform(X_train)\n",
        "X_test_norm = ln.transform(X_test)"
      ],
      "execution_count": 37,
      "outputs": [
        {
          "output_type": "stream",
          "text": [
            "/usr/local/lib/python3.7/dist-packages/pyDeepInsight/image_transformer.py:309: RuntimeWarning: invalid value encountered in log\n",
            "  X_norm = np.log(X + np.abs(self._min0) + 1).clip(0, None)\n"
          ],
          "name": "stderr"
        }
      ]
    },
    {
      "cell_type": "code",
      "metadata": {
        "colab": {
          "base_uri": "https://localhost:8080/"
        },
        "id": "0drP--B-B9Am",
        "outputId": "0b9a27a5-205d-44eb-b61c-84f83b215723"
      },
      "source": [
        "X_train_norm.isna().sum()"
      ],
      "execution_count": 40,
      "outputs": [
        {
          "output_type": "execute_result",
          "data": {
            "text/plain": [
              "wind_speed(m/s)                  0\n",
              "atmospheric_temperature(°C)      0\n",
              "shaft_temperature(°C)            0\n",
              "blades_angle(°)                  0\n",
              "gearbox_temperature(°C)          0\n",
              "engine_temperature(°C)           0\n",
              "motor_torque(N-m)                0\n",
              "generator_temperature(°C)        0\n",
              "atmospheric_pressure(Pascal)     0\n",
              "area_temperature(°C)             0\n",
              "windmill_body_temperature(°C)    0\n",
              "wind_direction(°)                0\n",
              "resistance(ohm)                  0\n",
              "rotor_torque(N-m)                0\n",
              "turbine_status                   0\n",
              "cloud_level                      0\n",
              "blade_length(m)                  0\n",
              "blade_breadth(m)                 0\n",
              "windmill_height(m)               0\n",
              "dtype: int64"
            ]
          },
          "metadata": {
            "tags": []
          },
          "execution_count": 40
        }
      ]
    },
    {
      "cell_type": "code",
      "metadata": {
        "colab": {
          "base_uri": "https://localhost:8080/"
        },
        "id": "lMY0hw2dbOB3",
        "outputId": "c891fc36-2c7b-420f-b32b-cc236dcc48df"
      },
      "source": [
        "normalizer = preprocessing.Normalization()\n",
        "normalizer.adapt(np.array(X_train))\n",
        "print(normalizer.mean.numpy())"
      ],
      "execution_count": null,
      "outputs": [
        {
          "output_type": "stream",
          "text": [
            "[ 6.8334282e+01  3.5394013e-01  4.0081684e+01 -9.5563908e+00\n",
            "  4.0963547e+01  4.2599373e+01  1.7104496e+03  6.5015205e+01\n",
            "  4.7927465e+04  3.2719650e+01  1.8877031e+01  2.5117149e+02\n",
            "  1.5751754e+03  2.5354872e+01  0.0000000e+00  0.0000000e+00\n",
            "  1.8543553e+00  3.9690533e-01  2.5397806e+01]\n"
          ],
          "name": "stdout"
        }
      ]
    },
    {
      "cell_type": "code",
      "metadata": {
        "id": "ns0CnzPAbfin"
      },
      "source": [
        "first = np.array(X_train[:1])\n",
        "\n",
        "with np.printoptions(precision=2, suppress=True):\n",
        "  print('First example:', first)\n",
        "  print()\n",
        "  print('Normalized:', normalizer(first).numpy())"
      ],
      "execution_count": null,
      "outputs": []
    },
    {
      "cell_type": "markdown",
      "metadata": {
        "id": "DK8Mi_CiHe2h"
      },
      "source": [
        "## Regession Model"
      ]
    },
    {
      "cell_type": "code",
      "metadata": {
        "id": "h5hzK3abHlHs"
      },
      "source": [
        "reg = LinearRegression().fit(X_train, y_train)"
      ],
      "execution_count": 27,
      "outputs": []
    },
    {
      "cell_type": "markdown",
      "metadata": {
        "id": "Nua5A9be67dr"
      },
      "source": [
        "### Testing"
      ]
    },
    {
      "cell_type": "code",
      "metadata": {
        "colab": {
          "base_uri": "https://localhost:8080/"
        },
        "id": "Cj0J6lBBH6cR",
        "outputId": "eb3e2c65-c90b-4ea9-b6d9-e0837ab36ad4"
      },
      "source": [
        "reg.score(X_test, y_test)"
      ],
      "execution_count": 29,
      "outputs": [
        {
          "output_type": "execute_result",
          "data": {
            "text/plain": [
              "0.4198836077468635"
            ]
          },
          "metadata": {
            "tags": []
          },
          "execution_count": 29
        }
      ]
    },
    {
      "cell_type": "code",
      "metadata": {
        "colab": {
          "base_uri": "https://localhost:8080/"
        },
        "id": "sNhCMcZyILmM",
        "outputId": "ce87f726-a366-49d6-ae0b-c52abaf60118"
      },
      "source": [
        "print(reg.predict([X_test.iloc[0]]))\n",
        "# print(X_test.iloc[0])\n",
        "print(y_test.iloc[0])"
      ],
      "execution_count": 35,
      "outputs": [
        {
          "output_type": "stream",
          "text": [
            "[3.71220085]\n",
            "2.58125494\n"
          ],
          "name": "stdout"
        }
      ]
    },
    {
      "cell_type": "markdown",
      "metadata": {
        "id": "ZhN2_s9XLum5"
      },
      "source": [
        "## Final"
      ]
    },
    {
      "cell_type": "code",
      "metadata": {
        "id": "-QwvbCqV689w"
      },
      "source": [
        "def clean(data):\n",
        "  df = data.drop(['tracking_id', 'datetime'], axis=1)\n",
        "  for feature in numerical_feaures:\n",
        "    df[feature].fillna(df[feature].mean(), inplace=True)\n",
        "  df = df.apply(lambda x: x.fillna(x.value_counts().index[0]))\n",
        "  df['turbine_status'] = df['turbine_status'].map(turbine_status_remapper)\n",
        "  df['cloud_level'] = df['cloud_level'].map(cloud_level_remapper)\n",
        "  return df"
      ],
      "execution_count": 38,
      "outputs": []
    },
    {
      "cell_type": "code",
      "metadata": {
        "id": "9ilJxHbYEyGG"
      },
      "source": [
        "reg = LinearRegression().fit(X, y)"
      ],
      "execution_count": 36,
      "outputs": []
    },
    {
      "cell_type": "code",
      "metadata": {
        "colab": {
          "base_uri": "https://localhost:8080/"
        },
        "id": "kxJQ8E7rL0Y_",
        "outputId": "5a7ba8e4-08f2-4869-bf89-50f564aadf6f"
      },
      "source": [
        "reg.score(X, y)"
      ],
      "execution_count": 37,
      "outputs": [
        {
          "output_type": "execute_result",
          "data": {
            "text/plain": [
              "0.4160819557415316"
            ]
          },
          "metadata": {
            "tags": []
          },
          "execution_count": 37
        }
      ]
    },
    {
      "cell_type": "code",
      "metadata": {
        "id": "DP-HdoLqMD-6"
      },
      "source": [
        "test = pd.read_csv('dataset/test.csv')"
      ],
      "execution_count": 60,
      "outputs": []
    },
    {
      "cell_type": "code",
      "metadata": {
        "id": "U5AwQKVIOJ0u"
      },
      "source": [
        "output_df = test[['tracking_id', 'datetime']]"
      ],
      "execution_count": 61,
      "outputs": []
    },
    {
      "cell_type": "code",
      "metadata": {
        "colab": {
          "base_uri": "https://localhost:8080/",
          "height": 207
        },
        "id": "3Q61y_etOOab",
        "outputId": "155726db-157d-4450-f1e3-7dc638b29420"
      },
      "source": [
        "output_df.head()"
      ],
      "execution_count": 62,
      "outputs": [
        {
          "output_type": "execute_result",
          "data": {
            "text/html": [
              "<div>\n",
              "<style scoped>\n",
              "    .dataframe tbody tr th:only-of-type {\n",
              "        vertical-align: middle;\n",
              "    }\n",
              "\n",
              "    .dataframe tbody tr th {\n",
              "        vertical-align: top;\n",
              "    }\n",
              "\n",
              "    .dataframe thead th {\n",
              "        text-align: right;\n",
              "    }\n",
              "</style>\n",
              "<table border=\"1\" class=\"dataframe\">\n",
              "  <thead>\n",
              "    <tr style=\"text-align: right;\">\n",
              "      <th></th>\n",
              "      <th>tracking_id</th>\n",
              "      <th>datetime</th>\n",
              "    </tr>\n",
              "  </thead>\n",
              "  <tbody>\n",
              "    <tr>\n",
              "      <th>0</th>\n",
              "      <td>WM_19817</td>\n",
              "      <td>2019-04-17 08:53:20</td>\n",
              "    </tr>\n",
              "    <tr>\n",
              "      <th>1</th>\n",
              "      <td>WM_18723</td>\n",
              "      <td>2019-03-30 07:43:20</td>\n",
              "    </tr>\n",
              "    <tr>\n",
              "      <th>2</th>\n",
              "      <td>WM_34552</td>\n",
              "      <td>2019-08-10 11:33:20</td>\n",
              "    </tr>\n",
              "    <tr>\n",
              "      <th>3</th>\n",
              "      <td>WM_28570</td>\n",
              "      <td>2019-06-26 03:53:20</td>\n",
              "    </tr>\n",
              "    <tr>\n",
              "      <th>4</th>\n",
              "      <td>WM_36934</td>\n",
              "      <td>2019-08-27 16:43:20</td>\n",
              "    </tr>\n",
              "  </tbody>\n",
              "</table>\n",
              "</div>"
            ],
            "text/plain": [
              "  tracking_id             datetime\n",
              "0    WM_19817  2019-04-17 08:53:20\n",
              "1    WM_18723  2019-03-30 07:43:20\n",
              "2    WM_34552  2019-08-10 11:33:20\n",
              "3    WM_28570  2019-06-26 03:53:20\n",
              "4    WM_36934  2019-08-27 16:43:20"
            ]
          },
          "metadata": {
            "tags": []
          },
          "execution_count": 62
        }
      ]
    },
    {
      "cell_type": "code",
      "metadata": {
        "id": "5fhenMBEL3hc"
      },
      "source": [
        "test = clean(test)"
      ],
      "execution_count": 63,
      "outputs": []
    },
    {
      "cell_type": "code",
      "metadata": {
        "colab": {
          "base_uri": "https://localhost:8080/",
          "height": 244
        },
        "id": "DZwVLVUJMMha",
        "outputId": "ccf32b62-3a66-49c1-c360-636fd5ce606b"
      },
      "source": [
        "test.head()"
      ],
      "execution_count": 64,
      "outputs": [
        {
          "output_type": "execute_result",
          "data": {
            "text/html": [
              "<div>\n",
              "<style scoped>\n",
              "    .dataframe tbody tr th:only-of-type {\n",
              "        vertical-align: middle;\n",
              "    }\n",
              "\n",
              "    .dataframe tbody tr th {\n",
              "        vertical-align: top;\n",
              "    }\n",
              "\n",
              "    .dataframe thead th {\n",
              "        text-align: right;\n",
              "    }\n",
              "</style>\n",
              "<table border=\"1\" class=\"dataframe\">\n",
              "  <thead>\n",
              "    <tr style=\"text-align: right;\">\n",
              "      <th></th>\n",
              "      <th>wind_speed(m/s)</th>\n",
              "      <th>atmospheric_temperature(°C)</th>\n",
              "      <th>shaft_temperature(°C)</th>\n",
              "      <th>blades_angle(°)</th>\n",
              "      <th>gearbox_temperature(°C)</th>\n",
              "      <th>engine_temperature(°C)</th>\n",
              "      <th>motor_torque(N-m)</th>\n",
              "      <th>generator_temperature(°C)</th>\n",
              "      <th>atmospheric_pressure(Pascal)</th>\n",
              "      <th>area_temperature(°C)</th>\n",
              "      <th>windmill_body_temperature(°C)</th>\n",
              "      <th>wind_direction(°)</th>\n",
              "      <th>resistance(ohm)</th>\n",
              "      <th>rotor_torque(N-m)</th>\n",
              "      <th>turbine_status</th>\n",
              "      <th>cloud_level</th>\n",
              "      <th>blade_length(m)</th>\n",
              "      <th>blade_breadth(m)</th>\n",
              "      <th>windmill_height(m)</th>\n",
              "    </tr>\n",
              "  </thead>\n",
              "  <tbody>\n",
              "    <tr>\n",
              "      <th>0</th>\n",
              "      <td>94.324266</td>\n",
              "      <td>17.641186</td>\n",
              "      <td>89.714193</td>\n",
              "      <td>51.146788</td>\n",
              "      <td>40.460560</td>\n",
              "      <td>39.594734</td>\n",
              "      <td>1073.202715</td>\n",
              "      <td>66.830037</td>\n",
              "      <td>16681.044117</td>\n",
              "      <td>24.004812</td>\n",
              "      <td>43.756693</td>\n",
              "      <td>445.976992</td>\n",
              "      <td>1664.222023</td>\n",
              "      <td>21.912243</td>\n",
              "      <td>14</td>\n",
              "      <td>1</td>\n",
              "      <td>3.185837</td>\n",
              "      <td>0.403965</td>\n",
              "      <td>25.572431</td>\n",
              "    </tr>\n",
              "    <tr>\n",
              "      <th>1</th>\n",
              "      <td>10.088870</td>\n",
              "      <td>13.978119</td>\n",
              "      <td>43.272846</td>\n",
              "      <td>46.516394</td>\n",
              "      <td>40.027788</td>\n",
              "      <td>41.176860</td>\n",
              "      <td>517.436430</td>\n",
              "      <td>37.284163</td>\n",
              "      <td>54283.324683</td>\n",
              "      <td>29.431813</td>\n",
              "      <td>42.728174</td>\n",
              "      <td>499.595287</td>\n",
              "      <td>1165.111992</td>\n",
              "      <td>-35.050093</td>\n",
              "      <td>12</td>\n",
              "      <td>1</td>\n",
              "      <td>3.016603</td>\n",
              "      <td>0.444755</td>\n",
              "      <td>24.371823</td>\n",
              "    </tr>\n",
              "    <tr>\n",
              "      <th>2</th>\n",
              "      <td>347.152090</td>\n",
              "      <td>31.423035</td>\n",
              "      <td>41.076640</td>\n",
              "      <td>26.931602</td>\n",
              "      <td>43.109122</td>\n",
              "      <td>43.439556</td>\n",
              "      <td>1480.716492</td>\n",
              "      <td>70.010762</td>\n",
              "      <td>214812.836175</td>\n",
              "      <td>29.924235</td>\n",
              "      <td>43.256122</td>\n",
              "      <td>245.432231</td>\n",
              "      <td>1667.720491</td>\n",
              "      <td>27.195302</td>\n",
              "      <td>10</td>\n",
              "      <td>1</td>\n",
              "      <td>2.611941</td>\n",
              "      <td>0.387368</td>\n",
              "      <td>27.654677</td>\n",
              "    </tr>\n",
              "    <tr>\n",
              "      <th>3</th>\n",
              "      <td>24.471997</td>\n",
              "      <td>-99.000000</td>\n",
              "      <td>14.375078</td>\n",
              "      <td>66.513953</td>\n",
              "      <td>13.741253</td>\n",
              "      <td>15.577472</td>\n",
              "      <td>887.979475</td>\n",
              "      <td>41.445258</td>\n",
              "      <td>54283.324683</td>\n",
              "      <td>23.886434</td>\n",
              "      <td>13.501595</td>\n",
              "      <td>308.376140</td>\n",
              "      <td>1329.744740</td>\n",
              "      <td>15.245757</td>\n",
              "      <td>11</td>\n",
              "      <td>2</td>\n",
              "      <td>2.866805</td>\n",
              "      <td>0.450478</td>\n",
              "      <td>24.189426</td>\n",
              "    </tr>\n",
              "    <tr>\n",
              "      <th>4</th>\n",
              "      <td>96.997026</td>\n",
              "      <td>33.281836</td>\n",
              "      <td>41.405192</td>\n",
              "      <td>1.843112</td>\n",
              "      <td>121.572907</td>\n",
              "      <td>43.934587</td>\n",
              "      <td>2053.916354</td>\n",
              "      <td>68.007787</td>\n",
              "      <td>16833.546517</td>\n",
              "      <td>35.906889</td>\n",
              "      <td>-99.000000</td>\n",
              "      <td>442.425744</td>\n",
              "      <td>691.408996</td>\n",
              "      <td>34.257024</td>\n",
              "      <td>12</td>\n",
              "      <td>2</td>\n",
              "      <td>3.549672</td>\n",
              "      <td>0.368355</td>\n",
              "      <td>4.885440</td>\n",
              "    </tr>\n",
              "  </tbody>\n",
              "</table>\n",
              "</div>"
            ],
            "text/plain": [
              "   wind_speed(m/s)  ...  windmill_height(m)\n",
              "0        94.324266  ...           25.572431\n",
              "1        10.088870  ...           24.371823\n",
              "2       347.152090  ...           27.654677\n",
              "3        24.471997  ...           24.189426\n",
              "4        96.997026  ...            4.885440\n",
              "\n",
              "[5 rows x 19 columns]"
            ]
          },
          "metadata": {
            "tags": []
          },
          "execution_count": 64
        }
      ]
    },
    {
      "cell_type": "code",
      "metadata": {
        "id": "fbEOAAiKMO9x"
      },
      "source": [
        "output = reg.predict(test)"
      ],
      "execution_count": 65,
      "outputs": []
    },
    {
      "cell_type": "code",
      "metadata": {
        "colab": {
          "base_uri": "https://localhost:8080/"
        },
        "id": "FO5leCo5NN4S",
        "outputId": "73c593d8-d37d-41ef-996d-efe5ef93a460"
      },
      "source": [
        "output[:5]"
      ],
      "execution_count": 66,
      "outputs": [
        {
          "output_type": "execute_result",
          "data": {
            "text/plain": [
              "array([3.51785115, 5.56613168, 3.70244663, 4.31506605, 7.59777282])"
            ]
          },
          "metadata": {
            "tags": []
          },
          "execution_count": 66
        }
      ]
    },
    {
      "cell_type": "code",
      "metadata": {
        "id": "6LSwO4t0NYws"
      },
      "source": [
        "output = pd.DataFrame(data=output, columns=['windmill_generated_power(kW/h)'])"
      ],
      "execution_count": 67,
      "outputs": []
    },
    {
      "cell_type": "code",
      "metadata": {
        "id": "hQGJfXSbOsA3"
      },
      "source": [
        "output_df['windmill_generated_power(kW/h)'] = output"
      ],
      "execution_count": 68,
      "outputs": []
    },
    {
      "cell_type": "code",
      "metadata": {
        "colab": {
          "base_uri": "https://localhost:8080/",
          "height": 207
        },
        "id": "DvS6_ivNN3q0",
        "outputId": "328a5fbe-3809-4148-c414-505223171bcd"
      },
      "source": [
        "output_df.head()"
      ],
      "execution_count": 69,
      "outputs": [
        {
          "output_type": "execute_result",
          "data": {
            "text/html": [
              "<div>\n",
              "<style scoped>\n",
              "    .dataframe tbody tr th:only-of-type {\n",
              "        vertical-align: middle;\n",
              "    }\n",
              "\n",
              "    .dataframe tbody tr th {\n",
              "        vertical-align: top;\n",
              "    }\n",
              "\n",
              "    .dataframe thead th {\n",
              "        text-align: right;\n",
              "    }\n",
              "</style>\n",
              "<table border=\"1\" class=\"dataframe\">\n",
              "  <thead>\n",
              "    <tr style=\"text-align: right;\">\n",
              "      <th></th>\n",
              "      <th>tracking_id</th>\n",
              "      <th>datetime</th>\n",
              "      <th>windmill_generated_power(kW/h)</th>\n",
              "    </tr>\n",
              "  </thead>\n",
              "  <tbody>\n",
              "    <tr>\n",
              "      <th>0</th>\n",
              "      <td>WM_19817</td>\n",
              "      <td>2019-04-17 08:53:20</td>\n",
              "      <td>3.517851</td>\n",
              "    </tr>\n",
              "    <tr>\n",
              "      <th>1</th>\n",
              "      <td>WM_18723</td>\n",
              "      <td>2019-03-30 07:43:20</td>\n",
              "      <td>5.566132</td>\n",
              "    </tr>\n",
              "    <tr>\n",
              "      <th>2</th>\n",
              "      <td>WM_34552</td>\n",
              "      <td>2019-08-10 11:33:20</td>\n",
              "      <td>3.702447</td>\n",
              "    </tr>\n",
              "    <tr>\n",
              "      <th>3</th>\n",
              "      <td>WM_28570</td>\n",
              "      <td>2019-06-26 03:53:20</td>\n",
              "      <td>4.315066</td>\n",
              "    </tr>\n",
              "    <tr>\n",
              "      <th>4</th>\n",
              "      <td>WM_36934</td>\n",
              "      <td>2019-08-27 16:43:20</td>\n",
              "      <td>7.597773</td>\n",
              "    </tr>\n",
              "  </tbody>\n",
              "</table>\n",
              "</div>"
            ],
            "text/plain": [
              "  tracking_id             datetime  windmill_generated_power(kW/h)\n",
              "0    WM_19817  2019-04-17 08:53:20                        3.517851\n",
              "1    WM_18723  2019-03-30 07:43:20                        5.566132\n",
              "2    WM_34552  2019-08-10 11:33:20                        3.702447\n",
              "3    WM_28570  2019-06-26 03:53:20                        4.315066\n",
              "4    WM_36934  2019-08-27 16:43:20                        7.597773"
            ]
          },
          "metadata": {
            "tags": []
          },
          "execution_count": 69
        }
      ]
    },
    {
      "cell_type": "code",
      "metadata": {
        "id": "DxDsfQTxN5Us"
      },
      "source": [
        "output_df.to_csv('predictions.csv')"
      ],
      "execution_count": 71,
      "outputs": []
    },
    {
      "cell_type": "code",
      "metadata": {
        "id": "l8usgyYCPdJx"
      },
      "source": [
        ""
      ],
      "execution_count": null,
      "outputs": []
    }
  ]
}
